{
 "cells": [
  {
   "cell_type": "markdown",
   "metadata": {
    "slideshow": {
     "slide_type": "slide"
    }
   },
   "source": [
    "<br>\n",
    "<left><bold><font size=\"5\"> Customer Churn Prediction and Segmentation for Telecom</font></bold></left>\n",
    "<br>\n",
    "<br>\n"
   ]
  },
  {
   "cell_type": "markdown",
   "metadata": {
    "slideshow": {
     "slide_type": "slide"
    }
   },
   "source": [
    "## Table of contents\n",
    "* [1. Overview and Goals](#introduction)\n",
    "* [2. Data Source and Use Case](#data)\n",
    "* [3. ETL (Extract Transform Load)](#etl)\n",
    "* [4. Analysis & Visualization](#Analysis&Visualization)\n",
    "* [5. Model Training and Evaluation](#Modeling)\n",
    "* [6. Customer Segmentation](#Segmentation)\n",
    "* [7. Results and Discussion](#results)"
   ]
  },
  {
   "cell_type": "markdown",
   "metadata": {
    "slideshow": {
     "slide_type": "slide"
    }
   },
   "source": [
    "## 1. Overview and Goals <a name=\"introduction\"></a>"
   ]
  },
  {
   "cell_type": "markdown",
   "metadata": {
    "slideshow": {
     "slide_type": "subslide"
    }
   },
   "source": [
    "Customer acquisition and **retention** is a key concern for many industries, especially acute in the strongly competitive and quick growth **telecommunications** industry. Meanwhile, since the **cost** of retaining a good customer is much lower than acquiring a new one, it is very profit-effective to input valuable resource on the Retention Campaign.\n",
    "\n",
    "Customers churn for various different reasons. Experience tells us that once the customer has made up their mind, retention becomes really hard. Therefore, managing churn in a **proactive** process is essential for the growth of the customer base and profit.\n",
    "\n",
    "The primary goal of churn analysis is usually to create a list of contracts that are likely to be cancelled in the near future. \n",
    "\n",
    "The customers holding these contracts are then targeted with special incentives designed to deter cancellation.\n",
    "\n",
    "At a more sophisticated level, the telecommunications company attempts to detect the reasons for an expected cancellation, because this information may help customize the offer.\n",
    "\n",
    "<img style=\"float: left;\" src='https://parcusgroup.com/public/wysiwyg/images/Telecom_Customer_Churn_Prediction_Models.jpg' width='50%'>\n"
   ]
  },
  {
   "cell_type": "markdown",
   "metadata": {
    "slideshow": {
     "slide_type": "slide"
    }
   },
   "source": [
    "## 2. Data Source and Use Case <a name=\"data\"></a>"
   ]
  },
  {
   "cell_type": "markdown",
   "metadata": {
    "slideshow": {
     "slide_type": "subslide"
    }
   },
   "source": [
    "The Data Source I've chosen here is an open source data(cell2cell) by Teradata center for customer relationship management at Duke University.\n",
    "\n",
    "Cell2Cell dataset is preprocessed and a balanced version provided for analyzing Process. consists of 71,047 instances and 58 attributes. We can try with data set, try Machine learning algorithms and deep leaning algorithms find measures like accuracy, ROC, AUC\n",
    "\n",
    "Telecom Industry faces fierce com-petition in satisfying its customers. The role of churn prediction system is not only restricted to accurately predict churners but also to interpret customer churn behavior.\n",
    "\n",
    "Churn management in the telecom services industry is used to securing the customers for a company. In essence, proper customer management presumes an ability to forecast the customer decides to move to another service provider, a measurement of customer profitability, and a set of strategic and tactic retention measures to reduce the movement.\n",
    "\n",
    "In practice, we can segment its customers by profitability and focus retention management only on those profitable segments, and score the entire customer base with propensity to churn and prioritize the retention effort based on profitability and churn propensity.\n",
    "\n",
    "The origin link of the dataset is https://www.kaggle.com/jpacse/datasets-for-churn-telecom\n"
   ]
  },
  {
   "cell_type": "code",
   "execution_count": 1,
   "metadata": {
    "slideshow": {
     "slide_type": "skip"
    }
   },
   "outputs": [
    {
     "name": "stderr",
     "output_type": "stream",
     "text": [
      "Welcome to\n",
      "      ____              __\n",
      "     / __/__  ___ _____/ /__\n",
      "    _\\ \\/ _ \\/ _ `/ __/  '_/\n",
      "   /___/ .__/\\_,_/_/ /_/\\_\\   version 2.4.0\n",
      "      /_/\n",
      "                        \n",
      "Using Scala version 2.11.12, Java HotSpot(TM) 64-Bit Server VM, 1.8.0_201\n",
      "Branch \n",
      "Compiled by user  on 2018-10-29T06:22:05Z\n",
      "Revision \n",
      "Url \n",
      "Type --help for more information.\n"
     ]
    }
   ],
   "source": [
    "# Check the version of pyspark\n",
    "# Pyspark Version should be: 2.4.0\n",
    "!pyspark --version\n"
   ]
  },
  {
   "cell_type": "code",
   "execution_count": 2,
   "metadata": {
    "slideshow": {
     "slide_type": "skip"
    }
   },
   "outputs": [
    {
     "name": "stderr",
     "output_type": "stream",
     "text": [
      "Using TensorFlow backend.\n"
     ]
    }
   ],
   "source": [
    "# Import pyspark\n",
    "import pyspark\n",
    "from pyspark import SparkConf\n",
    "from pyspark.ml.feature import (\n",
    "    StringIndexer,\n",
    "    OneHotEncoder,\n",
    "    VectorAssembler,\n",
    "    StandardScaler,\n",
    ")\n",
    "from pyspark.ml.tuning import CrossValidator, ParamGridBuilder, TrainValidationSplit\n",
    "from pyspark.ml import Pipeline\n",
    "from pyspark.ml.classification import RandomForestClassifier, GBTClassifier\n",
    "from pyspark.ml.clustering import KMeans\n",
    "from pyspark.ml.linalg import Vectors\n",
    "from pyspark.ml.evaluation import RegressionEvaluator, BinaryClassificationEvaluator, ClusteringEvaluator\n",
    "\n",
    "from pyspark.sql.types import FloatType, StringType, DoubleType\n",
    "from pyspark.sql import functions as F\n",
    "from pyspark.sql import SparkSession\n",
    "\n",
    "# Import numpy, pandas, matpoltlib, seaborn\n",
    "import numpy as np\n",
    "import pandas as pd\n",
    "import matplotlib.pyplot as plt\n",
    "import seaborn as sns\n",
    "\n",
    "# Import sklearn\n",
    "from sklearn.model_selection import train_test_split, GridSearchCV\n",
    "from sklearn.preprocessing import StandardScaler\n",
    "from sklearn.metrics import roc_curve, auc, classification_report\n",
    "from sklearn import metrics\n",
    "\n",
    "# import xgboost\n",
    "import xgboost as xgb\n",
    "\n",
    "# Import keras\n",
    "import keras\n",
    "from keras import Sequential, regularizers\n",
    "from keras.optimizers import SGD, RMSprop, Adam\n",
    "from keras.layers import Dense, Dropout, Activation\n",
    "from keras.wrappers.scikit_learn import KerasRegressor\n",
    "from keras.utils import np_utils\n",
    "\n",
    "sns.set_style(\"whitegrid\")  # Set style of seaborn\n"
   ]
  },
  {
   "cell_type": "code",
   "execution_count": 3,
   "metadata": {
    "slideshow": {
     "slide_type": "skip"
    }
   },
   "outputs": [],
   "source": [
    "load_ext blackcellmagic\n"
   ]
  },
  {
   "cell_type": "code",
   "execution_count": 4,
   "metadata": {
    "slideshow": {
     "slide_type": "subslide"
    }
   },
   "outputs": [
    {
     "data": {
      "text/plain": [
       "[('spark.app.name', 'Telecom_Churn'),\n",
       " ('spark.sql.broadcastTimeout', '9000'),\n",
       " ('spark.executor.memory', '10g'),\n",
       " ('spark.driver.memory', '10g'),\n",
       " ('spark.master', 'local[*]'),\n",
       " ('spark.executor.cores', '3'),\n",
       " ('spark.submit.deployMode', 'client'),\n",
       " ('spark.ui.showConsoleProgress', 'true'),\n",
       " ('spark.cores.max', '3')]"
      ]
     },
     "execution_count": 4,
     "metadata": {},
     "output_type": "execute_result"
    }
   ],
   "source": [
    "# Create SparkSession in local environment\n",
    "spark = (\n",
    "    SparkSession.builder.appName(\"Telecom_Churn\")  # create a name\n",
    "    .config(\"spark.executor.memory\", \"10g\")  # Maximum amount of memory allowed\n",
    "    .config(\"spark.executor.cores\", \"3\")  # Maximum cpu threads allowed\n",
    "    .config(\"spark.cores.max\", \"3\")\n",
    "    .config(\"spark.driver.memory\", \"10g\")\n",
    "    .config(\"spark.sql.broadcastTimeout\", \"9000\")\n",
    "    .getOrCreate()\n",
    ")\n",
    "SparkConf().getAll()\n"
   ]
  },
  {
   "cell_type": "code",
   "execution_count": 5,
   "metadata": {
    "slideshow": {
     "slide_type": "skip"
    }
   },
   "outputs": [],
   "source": [
    "# Define a load founction\n",
    "def load(path, show_num=None, printable=True):\n",
    "    \"\"\"\n",
    "    read csv file, drop null values, print the length of the rows\n",
    "    \"\"\"\n",
    "    data = spark.read.csv(path, header=\"true\", inferSchema=True)\n",
    "    data = data.na.drop()\n",
    "    if show_num:\n",
    "        data.show(show_num)\n",
    "\n",
    "    if printable == True:\n",
    "        data.printSchema()\n",
    "        print(\"Length:\", data.count())\n",
    "    return data\n"
   ]
  },
  {
   "cell_type": "code",
   "execution_count": 6,
   "metadata": {
    "slideshow": {
     "slide_type": "skip"
    }
   },
   "outputs": [
    {
     "name": "stdout",
     "output_type": "stream",
     "text": [
      "root\n",
      " |-- CustomerID: integer (nullable = true)\n",
      " |-- Churn: string (nullable = true)\n",
      " |-- MonthlyRevenue: string (nullable = true)\n",
      " |-- MonthlyMinutes: string (nullable = true)\n",
      " |-- TotalRecurringCharge: string (nullable = true)\n",
      " |-- DirectorAssistedCalls: string (nullable = true)\n",
      " |-- OverageMinutes: string (nullable = true)\n",
      " |-- RoamingCalls: string (nullable = true)\n",
      " |-- PercChangeMinutes: string (nullable = true)\n",
      " |-- PercChangeRevenues: string (nullable = true)\n",
      " |-- DroppedCalls: double (nullable = true)\n",
      " |-- BlockedCalls: double (nullable = true)\n",
      " |-- UnansweredCalls: double (nullable = true)\n",
      " |-- CustomerCareCalls: double (nullable = true)\n",
      " |-- ThreewayCalls: double (nullable = true)\n",
      " |-- ReceivedCalls: double (nullable = true)\n",
      " |-- OutboundCalls: double (nullable = true)\n",
      " |-- InboundCalls: double (nullable = true)\n",
      " |-- PeakCallsInOut: double (nullable = true)\n",
      " |-- OffPeakCallsInOut: double (nullable = true)\n",
      " |-- DroppedBlockedCalls: double (nullable = true)\n",
      " |-- CallForwardingCalls: double (nullable = true)\n",
      " |-- CallWaitingCalls: double (nullable = true)\n",
      " |-- MonthsInService: integer (nullable = true)\n",
      " |-- UniqueSubs: integer (nullable = true)\n",
      " |-- ActiveSubs: integer (nullable = true)\n",
      " |-- ServiceArea: string (nullable = true)\n",
      " |-- Handsets: string (nullable = true)\n",
      " |-- HandsetModels: string (nullable = true)\n",
      " |-- CurrentEquipmentDays: string (nullable = true)\n",
      " |-- AgeHH1: string (nullable = true)\n",
      " |-- AgeHH2: string (nullable = true)\n",
      " |-- ChildrenInHH: string (nullable = true)\n",
      " |-- HandsetRefurbished: string (nullable = true)\n",
      " |-- HandsetWebCapable: string (nullable = true)\n",
      " |-- TruckOwner: string (nullable = true)\n",
      " |-- RVOwner: string (nullable = true)\n",
      " |-- Homeownership: string (nullable = true)\n",
      " |-- BuysViaMailOrder: string (nullable = true)\n",
      " |-- RespondsToMailOffers: string (nullable = true)\n",
      " |-- OptOutMailings: string (nullable = true)\n",
      " |-- NonUSTravel: string (nullable = true)\n",
      " |-- OwnsComputer: string (nullable = true)\n",
      " |-- HasCreditCard: string (nullable = true)\n",
      " |-- RetentionCalls: integer (nullable = true)\n",
      " |-- RetentionOffersAccepted: integer (nullable = true)\n",
      " |-- NewCellphoneUser: string (nullable = true)\n",
      " |-- NotNewCellphoneUser: string (nullable = true)\n",
      " |-- ReferralsMadeBySubscriber: integer (nullable = true)\n",
      " |-- IncomeGroup: integer (nullable = true)\n",
      " |-- OwnsMotorcycle: string (nullable = true)\n",
      " |-- AdjustmentsToCreditRating: integer (nullable = true)\n",
      " |-- HandsetPrice: string (nullable = true)\n",
      " |-- MadeCallToRetentionTeam: string (nullable = true)\n",
      " |-- CreditRating: string (nullable = true)\n",
      " |-- PrizmCode: string (nullable = true)\n",
      " |-- Occupation: string (nullable = true)\n",
      " |-- MaritalStatus: string (nullable = true)\n",
      "\n",
      "Length: 51023\n",
      "+-------+-----------------+\n",
      "|summary|   MonthlyRevenue|\n",
      "+-------+-----------------+\n",
      "|  count|            51023|\n",
      "|   mean|58.83160693573337|\n",
      "| stddev|44.50914136226994|\n",
      "|    min|            -2.52|\n",
      "|    max|               NA|\n",
      "+-------+-----------------+\n",
      "\n"
     ]
    }
   ],
   "source": [
    "# Define the path of data source and load into spark dataframe\n",
    "path = \"./cell2celltrain.csv\"\n",
    "df = load(path)\n",
    "df.select(\"MonthlyRevenue\").describe().show()\n"
   ]
  },
  {
   "cell_type": "markdown",
   "metadata": {
    "slideshow": {
     "slide_type": "slide"
    }
   },
   "source": [
    "## 3. ETL (Extract Transform Load) <a name=\"etl\"></a>"
   ]
  },
  {
   "cell_type": "markdown",
   "metadata": {
    "slideshow": {
     "slide_type": "subslide"
    }
   },
   "source": [
    "Before Modeling and Visualization, first of all we need follow the data engineering process, specificlly ETL process, which stands for Extract, transform, and load variables from identified data items.\n",
    "\n",
    "Extract is the process of reading data from a database. In this stage, the data is collected, often from multiple and different types of sources.\n",
    "\n",
    "Transform is the process of converting the extracted data from its previous form into the form it needs to be in so that it can be placed into another database. Transformation occurs by using rules or lookup tables or by combining the data with other data.\n",
    "\n",
    "Load is the process of writing the data into the target database.\n",
    "\n",
    "<img style=\"float: left;\" src='https://docs.microsoft.com/en-us/azure/architecture/data-guide/images/etl.png' width='50%'>\n",
    "<br>"
   ]
  },
  {
   "cell_type": "code",
   "execution_count": 7,
   "metadata": {
    "slideshow": {
     "slide_type": "skip"
    }
   },
   "outputs": [],
   "source": [
    "# Delete the rows with 'NA' values\n",
    "for column in df.columns:\n",
    "    if df.schema[column].dataType == pyspark.sql.types.StringType():\n",
    "        df = df.filter(df[column] != \"NA\")\n"
   ]
  },
  {
   "cell_type": "code",
   "execution_count": 8,
   "metadata": {
    "slideshow": {
     "slide_type": "skip"
    }
   },
   "outputs": [
    {
     "name": "stdout",
     "output_type": "stream",
     "text": [
      "+-------+-----+\n",
      "|summary|Churn|\n",
      "+-------+-----+\n",
      "|  count|49752|\n",
      "|   mean| null|\n",
      "| stddev| null|\n",
      "|    min|   No|\n",
      "|    max|  Yes|\n",
      "+-------+-----+\n",
      "\n"
     ]
    }
   ],
   "source": [
    "# Check the description of Churn column\n",
    "df.select(\"Churn\").describe().show()\n"
   ]
  },
  {
   "cell_type": "code",
   "execution_count": 9,
   "metadata": {
    "slideshow": {
     "slide_type": "skip"
    }
   },
   "outputs": [
    {
     "data": {
      "text/plain": [
       "['Churn',\n",
       " 'MonthlyRevenue',\n",
       " 'MonthlyMinutes',\n",
       " 'TotalRecurringCharge',\n",
       " 'DirectorAssistedCalls',\n",
       " 'OverageMinutes',\n",
       " 'RoamingCalls',\n",
       " 'PercChangeMinutes',\n",
       " 'PercChangeRevenues',\n",
       " 'ServiceArea',\n",
       " 'Handsets',\n",
       " 'HandsetModels',\n",
       " 'CurrentEquipmentDays',\n",
       " 'AgeHH1',\n",
       " 'AgeHH2',\n",
       " 'ChildrenInHH',\n",
       " 'HandsetRefurbished',\n",
       " 'HandsetWebCapable',\n",
       " 'TruckOwner',\n",
       " 'RVOwner',\n",
       " 'Homeownership',\n",
       " 'BuysViaMailOrder',\n",
       " 'RespondsToMailOffers',\n",
       " 'OptOutMailings',\n",
       " 'NonUSTravel',\n",
       " 'OwnsComputer',\n",
       " 'HasCreditCard',\n",
       " 'NewCellphoneUser',\n",
       " 'NotNewCellphoneUser',\n",
       " 'OwnsMotorcycle',\n",
       " 'HandsetPrice',\n",
       " 'MadeCallToRetentionTeam',\n",
       " 'CreditRating',\n",
       " 'PrizmCode',\n",
       " 'Occupation',\n",
       " 'MaritalStatus']"
      ]
     },
     "execution_count": 9,
     "metadata": {},
     "output_type": "execute_result"
    }
   ],
   "source": [
    "# Going through all columns required to be transfer into numerical values\n",
    "columns_string = [\n",
    "    column\n",
    "    for column in df.columns\n",
    "    if df.schema[column].dataType == pyspark.sql.types.StringType()\n",
    "]\n",
    "columns_string\n"
   ]
  },
  {
   "cell_type": "code",
   "execution_count": 10,
   "metadata": {
    "slideshow": {
     "slide_type": "skip"
    }
   },
   "outputs": [
    {
     "name": "stdout",
     "output_type": "stream",
     "text": [
      "+-----+------------------+------------------+------------------------+------------------------+------------------+----------------+\n",
      "|Churn|avg_MonthlyRevenue|avg_MonthlyMinutes|avg_CurrentEquipmentDays|avg_TotalRecurringCharge|avg_OverageMinutes|avg_RoamingCalls|\n",
      "+-----+------------------+------------------+------------------------+------------------------+------------------+----------------+\n",
      "|   No|             59.06|            541.81|                  363.64|                   47.72|             38.82|            1.16|\n",
      "|  Yes|             57.87|            483.16|                  420.85|                   44.62|             42.08|            1.40|\n",
      "+-----+------------------+------------------+------------------------+------------------------+------------------+----------------+\n",
      "\n"
     ]
    }
   ],
   "source": [
    "# create the view of df under spark\n",
    "df.createOrReplaceTempView(\"df\")\n",
    "\n",
    "# check the distribution of picked columns\n",
    "spark.sql(\n",
    "    \"SELECT \\\n",
    "            Churn, \\\n",
    "            CAST (avg(MonthlyRevenue) as decimal(8,2)) as avg_MonthlyRevenue, \\\n",
    "            CAST (avg(MonthlyMinutes) as decimal(8,2)) as avg_MonthlyMinutes, \\\n",
    "            CAST (avg(CurrentEquipmentDays) as decimal(8,2)) as avg_CurrentEquipmentDays, \\\n",
    "            CAST (avg(TotalRecurringCharge) as decimal(8,2)) as avg_TotalRecurringCharge, \\\n",
    "            CAST (avg(OverageMinutes) as decimal(8,2)) as avg_OverageMinutes, \\\n",
    "            CAST (avg(RoamingCalls) as decimal(8,2)) as avg_RoamingCalls \\\n",
    "            FROM df GROUP BY Churn\"\n",
    ").show()\n"
   ]
  },
  {
   "cell_type": "code",
   "execution_count": 11,
   "metadata": {
    "slideshow": {
     "slide_type": "skip"
    }
   },
   "outputs": [
    {
     "name": "stdout",
     "output_type": "stream",
     "text": [
      "+-----+--------------+--------------+--------------------+---------------------+--------------+------------+-----------------+------------------+-----------+--------+-------------+--------------------+------+------+------------+------------------+-----------------+----------+-------+-------------+----------------+--------------------+--------------+-----------+------------+-------------+----------------+-------------------+--------------+------------+-----------------------+------------+---------+------------+-------------+\n",
      "|Churn|MonthlyRevenue|MonthlyMinutes|TotalRecurringCharge|DirectorAssistedCalls|OverageMinutes|RoamingCalls|PercChangeMinutes|PercChangeRevenues|ServiceArea|Handsets|HandsetModels|CurrentEquipmentDays|AgeHH1|AgeHH2|ChildrenInHH|HandsetRefurbished|HandsetWebCapable|TruckOwner|RVOwner|Homeownership|BuysViaMailOrder|RespondsToMailOffers|OptOutMailings|NonUSTravel|OwnsComputer|HasCreditCard|NewCellphoneUser|NotNewCellphoneUser|OwnsMotorcycle|HandsetPrice|MadeCallToRetentionTeam|CreditRating|PrizmCode|  Occupation|MaritalStatus|\n",
      "+-----+--------------+--------------+--------------------+---------------------+--------------+------------+-----------------+------------------+-----------+--------+-------------+--------------------+------+------+------------+------------------+-----------------+----------+-------+-------------+----------------+--------------------+--------------+-----------+------------+-------------+----------------+-------------------+--------------+------------+-----------------------+------------+---------+------------+-------------+\n",
      "|  Yes|            24|           219|                  22|                 0.25|             0|           0|             -157|               -19|  SEAPOR503|       2|            2|                 361|    62|     0|          No|                No|              Yes|        No|     No|        Known|             Yes|                 Yes|            No|         No|         Yes|          Yes|              No|                 No|            No|          30|                    Yes|   1-Highest| Suburban|Professional|           No|\n",
      "+-----+--------------+--------------+--------------------+---------------------+--------------+------------+-----------------+------------------+-----------+--------+-------------+--------------------+------+------+------------+------------------+-----------------+----------+-------+-------------+----------------+--------------------+--------------+-----------+------------+-------------+----------------+-------------------+--------------+------------+-----------------------+------------+---------+------------+-------------+\n",
      "only showing top 1 row\n",
      "\n"
     ]
    }
   ],
   "source": [
    "# Check the values of string columns\n",
    "df.select([column for column in df.columns if column in columns_string]).show(1)\n"
   ]
  },
  {
   "cell_type": "code",
   "execution_count": 12,
   "metadata": {
    "slideshow": {
     "slide_type": "skip"
    }
   },
   "outputs": [],
   "source": [
    "# Based on the values of the string columns, select the list of columns for StringIndexer\n",
    "columns_for_indexer = [\n",
    "    \"Churn\",\n",
    "    \"ChildrenInHH\",\n",
    "    \"HandsetRefurbished\",\n",
    "    \"HandsetWebCapable\",\n",
    "    \"TruckOwner\",\n",
    "    \"RVOwner\",\n",
    "    \"Homeownership\",\n",
    "    \"BuysViaMailOrder\",\n",
    "    \"RespondsToMailOffers\",\n",
    "    \"OptOutMailings\",\n",
    "    \"NonUSTravel\",\n",
    "    \"OwnsComputer\",\n",
    "    \"HasCreditCard\",\n",
    "    \"NewCellphoneUser\",\n",
    "    \"NotNewCellphoneUser\",\n",
    "    \"OwnsMotorcycle\",\n",
    "    \"MadeCallToRetentionTeam\",\n",
    "    \"MaritalStatus\",\n",
    "]\n"
   ]
  },
  {
   "cell_type": "code",
   "execution_count": 13,
   "metadata": {
    "slideshow": {
     "slide_type": "skip"
    }
   },
   "outputs": [],
   "source": [
    "# Loop the list and use StringIndexer encodes the string columns of labels(Yes or No) to columns of label indices(1 or 0)\n",
    "for column in columns_for_indexer:\n",
    "    indexer = StringIndexer(inputCol=column, outputCol=column + \"Index\")\n",
    "    df = indexer.fit(df).transform(df)\n"
   ]
  },
  {
   "cell_type": "code",
   "execution_count": 14,
   "metadata": {
    "slideshow": {
     "slide_type": "skip"
    }
   },
   "outputs": [],
   "source": [
    "# Drop the original string columns of labels\n",
    "df = df.select([column for column in df.columns if column not in columns_for_indexer])\n"
   ]
  },
  {
   "cell_type": "code",
   "execution_count": 15,
   "metadata": {
    "slideshow": {
     "slide_type": "skip"
    }
   },
   "outputs": [
    {
     "name": "stdout",
     "output_type": "stream",
     "text": [
      "+-------+-------------------+\n",
      "|summary|         ChurnIndex|\n",
      "+-------+-------------------+\n",
      "|  count|              49752|\n",
      "|   mean|0.28632014793375143|\n",
      "| stddev|0.45204538278095535|\n",
      "|    min|                0.0|\n",
      "|    max|                1.0|\n",
      "+-------+-------------------+\n",
      "\n"
     ]
    }
   ],
   "source": [
    "# Check the Churn column again to confirm the result\n",
    "df.select(\"ChurnIndex\").describe().show()\n"
   ]
  },
  {
   "cell_type": "code",
   "execution_count": 16,
   "metadata": {
    "slideshow": {
     "slide_type": "skip"
    }
   },
   "outputs": [],
   "source": [
    "# Replace unknown values to 0 for Price Column\n",
    "df = df.replace(to_replace={\"Unknown\": \"0\"}, subset=[\"HandsetPrice\"])\n"
   ]
  },
  {
   "cell_type": "code",
   "execution_count": 17,
   "metadata": {
    "slideshow": {
     "slide_type": "skip"
    }
   },
   "outputs": [],
   "source": [
    "# Delete the rows with 'NA' values\n",
    "for column in df.columns:\n",
    "    if df.schema[column].dataType == pyspark.sql.types.StringType():\n",
    "        df = df.filter(df[column] != \"Unknown\")\n"
   ]
  },
  {
   "cell_type": "code",
   "execution_count": 18,
   "metadata": {
    "slideshow": {
     "slide_type": "skip"
    }
   },
   "outputs": [
    {
     "data": {
      "text/plain": [
       "['MonthlyRevenue',\n",
       " 'MonthlyMinutes',\n",
       " 'TotalRecurringCharge',\n",
       " 'DirectorAssistedCalls',\n",
       " 'OverageMinutes',\n",
       " 'RoamingCalls',\n",
       " 'PercChangeMinutes',\n",
       " 'PercChangeRevenues',\n",
       " 'ServiceArea',\n",
       " 'Handsets',\n",
       " 'HandsetModels',\n",
       " 'CurrentEquipmentDays',\n",
       " 'AgeHH1',\n",
       " 'AgeHH2',\n",
       " 'HandsetPrice',\n",
       " 'CreditRating',\n",
       " 'PrizmCode',\n",
       " 'Occupation']"
      ]
     },
     "execution_count": 18,
     "metadata": {},
     "output_type": "execute_result"
    }
   ],
   "source": [
    "# Another Iteration for feature engineering\n",
    "columns_string = [\n",
    "    column\n",
    "    for column in df.columns\n",
    "    if df.schema[column].dataType == pyspark.sql.types.StringType()\n",
    "]\n",
    "columns_string\n"
   ]
  },
  {
   "cell_type": "code",
   "execution_count": 19,
   "metadata": {
    "slideshow": {
     "slide_type": "subslide"
    }
   },
   "outputs": [],
   "source": [
    "# Mapping string values into integer based on its values\n",
    "mapping_PrizmCode = {\"Other\": \"0\", \"Suburban\": \"1\", \"Town\": \"2\", \"Rural\": \"3\"}\n",
    "df = df.replace(to_replace=mapping_PrizmCode, subset=[\"PrizmCode\"])\n"
   ]
  },
  {
   "cell_type": "code",
   "execution_count": 20,
   "metadata": {
    "slideshow": {
     "slide_type": "skip"
    }
   },
   "outputs": [],
   "source": [
    "# Prepare the list of columns to be transformed into float\n",
    "columns_to_float = [\n",
    "    \"MonthlyRevenue\",\n",
    "    \"MonthlyMinutes\",\n",
    "    \"TotalRecurringCharge\",\n",
    "    \"DirectorAssistedCalls\",\n",
    "    \"OverageMinutes\",\n",
    "    \"RoamingCalls\",\n",
    "    \"PercChangeMinutes\",\n",
    "    \"PercChangeRevenues\",\n",
    "]\n"
   ]
  },
  {
   "cell_type": "code",
   "execution_count": 21,
   "metadata": {
    "slideshow": {
     "slide_type": "skip"
    }
   },
   "outputs": [],
   "source": [
    "# Transform ServiceArea and CreditRating columns only to keep the int value\n",
    "df = df.withColumn(\"ServiceArea\", df[\"ServiceArea\"].substr(-3, 3))\n",
    "df = df.withColumn(\"CreditRating\", df[\"CreditRating\"].substr(1, 1))\n"
   ]
  },
  {
   "cell_type": "code",
   "execution_count": 22,
   "metadata": {},
   "outputs": [],
   "source": [
    "# Transform the type of columns to float\n",
    "for column in columns_to_float:\n",
    "    df = df.withColumn(column, df[column].cast(\"float\"))\n"
   ]
  },
  {
   "cell_type": "code",
   "execution_count": 23,
   "metadata": {},
   "outputs": [],
   "source": [
    "# Create a Pandas DataFrame for data visualization\n",
    "df_pd = df.toPandas()\n"
   ]
  },
  {
   "cell_type": "code",
   "execution_count": 24,
   "metadata": {
    "slideshow": {
     "slide_type": "fragment"
    }
   },
   "outputs": [
    {
     "name": "stderr",
     "output_type": "stream",
     "text": [
      "C:\\Users\\zhunqiang\\Anaconda3\\envs\\py36\\lib\\site-packages\\scipy\\stats\\stats.py:1713: FutureWarning: Using a non-tuple sequence for multidimensional indexing is deprecated; use `arr[tuple(seq)]` instead of `arr[seq]`. In the future this will be interpreted as an array index, `arr[np.array(seq)]`, which will result either in an error or a different result.\n",
      "  return np.add.reduce(sorted[indexer] * weights, axis=axis) / sumval\n"
     ]
    },
    {
     "data": {
      "image/png": "[encoded data removed]",
      "text/plain": [
       "<Figure size 432x288 with 1 Axes>"
      ]
     },
     "metadata": {
      "needs_background": "light"
     },
     "output_type": "display_data"
    }
   ],
   "source": [
    "# Before transform the type of Occupation column, let's check it's distribution first\n",
    "graph = df_pd[[\"Occupation\", \"MonthlyRevenue\"]]\n",
    "ax = sns.barplot(x=\"Occupation\", y=\"MonthlyRevenue\", data=graph)\n"
   ]
  },
  {
   "cell_type": "code",
   "execution_count": 25,
   "metadata": {
    "slideshow": {
     "slide_type": "fragment"
    }
   },
   "outputs": [
    {
     "name": "stdout",
     "output_type": "stream",
     "text": [
      "{'Other': '0', 'Self': '1', 'Student': '2', 'Crafts': '3', 'Clerical': '4', 'Professional': '5', 'Homemaker': '6', 'Retired': '7'}\n"
     ]
    }
   ],
   "source": [
    "# Transform string values to numbers using mapping\n",
    "temp = (\n",
    "    df_pd.loc[:, [\"Occupation\", \"MonthlyRevenue\"]]\n",
    "    .groupby(\"Occupation\")\n",
    "    .mean()\n",
    "    .sort_values([\"MonthlyRevenue\"], ascending=[0])\n",
    ")\n",
    "\n",
    "mapping_Occupation = dict([temp.index[i], str(i)] for i in range(len(temp)))\n",
    "print(mapping_Occupation)\n",
    "\n",
    "df = df.replace(to_replace=mapping_Occupation, subset=[\"Occupation\"])\n"
   ]
  },
  {
   "cell_type": "code",
   "execution_count": 26,
   "metadata": {
    "slideshow": {
     "slide_type": "skip"
    }
   },
   "outputs": [
    {
     "data": {
      "text/plain": [
       "DataFrame[summary: string, CustomerID: string, MonthlyRevenue: string, MonthlyMinutes: string, TotalRecurringCharge: string, DirectorAssistedCalls: string, OverageMinutes: string, RoamingCalls: string, PercChangeMinutes: string, PercChangeRevenues: string, DroppedCalls: string, BlockedCalls: string, UnansweredCalls: string, CustomerCareCalls: string, ThreewayCalls: string, ReceivedCalls: string, OutboundCalls: string, InboundCalls: string, PeakCallsInOut: string, OffPeakCallsInOut: string, DroppedBlockedCalls: string, CallForwardingCalls: string, CallWaitingCalls: string, MonthsInService: string, UniqueSubs: string, ActiveSubs: string, ServiceArea: string, Handsets: string, HandsetModels: string, CurrentEquipmentDays: string, AgeHH1: string, AgeHH2: string, RetentionCalls: string, RetentionOffersAccepted: string, ReferralsMadeBySubscriber: string, IncomeGroup: string, AdjustmentsToCreditRating: string, HandsetPrice: string, CreditRating: string, PrizmCode: string, Occupation: string, ChurnIndex: string, ChildrenInHHIndex: string, HandsetRefurbishedIndex: string, HandsetWebCapableIndex: string, TruckOwnerIndex: string, RVOwnerIndex: string, HomeownershipIndex: string, BuysViaMailOrderIndex: string, RespondsToMailOffersIndex: string, OptOutMailingsIndex: string, NonUSTravelIndex: string, OwnsComputerIndex: string, HasCreditCardIndex: string, NewCellphoneUserIndex: string, NotNewCellphoneUserIndex: string, OwnsMotorcycleIndex: string, MadeCallToRetentionTeamIndex: string, MaritalStatusIndex: string]"
      ]
     },
     "execution_count": 26,
     "metadata": {},
     "output_type": "execute_result"
    }
   ],
   "source": [
    "df.describe()\n"
   ]
  },
  {
   "cell_type": "code",
   "execution_count": 27,
   "metadata": {
    "slideshow": {
     "slide_type": "skip"
    }
   },
   "outputs": [],
   "source": [
    "# Prepare the list of columns to be transformed into integer\n",
    "columns_to_int = [\n",
    "    \"Handsets\",\n",
    "    \"HandsetModels\",\n",
    "    \"CurrentEquipmentDays\",\n",
    "    \"AgeHH1\",\n",
    "    \"AgeHH2\",\n",
    "    \"HandsetPrice\",\n",
    "    \"ServiceArea\",\n",
    "    \"CreditRating\",\n",
    "    \"PrizmCode\",\n",
    "    \"Occupation\",\n",
    "    \"ChurnIndex\",\n",
    "    \"ChildrenInHHIndex\",\n",
    "    \"HandsetRefurbishedIndex\",\n",
    "    \"HandsetWebCapableIndex\",\n",
    "    \"TruckOwnerIndex\",\n",
    "    \"RVOwnerIndex\",\n",
    "    \"HomeownershipIndex\",\n",
    "    \"BuysViaMailOrderIndex\",\n",
    "    \"RespondsToMailOffersIndex\",\n",
    "    \"OptOutMailingsIndex\",\n",
    "    \"NonUSTravelIndex\",\n",
    "    \"OwnsComputerIndex\",\n",
    "    \"HasCreditCardIndex\",\n",
    "    \"NewCellphoneUserIndex\",\n",
    "    \"NotNewCellphoneUserIndex\",\n",
    "    \"OwnsMotorcycleIndex\",\n",
    "    \"MadeCallToRetentionTeamIndex\",\n",
    "    \"MaritalStatusIndex\",\n",
    "]\n"
   ]
  },
  {
   "cell_type": "code",
   "execution_count": 28,
   "metadata": {
    "slideshow": {
     "slide_type": "skip"
    }
   },
   "outputs": [],
   "source": [
    "# Transform the type of columns to integer\n",
    "for column in columns_to_int:\n",
    "    df = df.withColumn(column, df[column].cast(\"int\"))\n"
   ]
  },
  {
   "cell_type": "markdown",
   "metadata": {
    "slideshow": {
     "slide_type": "slide"
    }
   },
   "source": [
    "## 4. Analysis & Visualization <a name=\"Analysis&Visualization\"></a>"
   ]
  },
  {
   "cell_type": "markdown",
   "metadata": {
    "slideshow": {
     "slide_type": "subslide"
    }
   },
   "source": [
    "Before go to next step, I'd like to do some Analysis & Visualization of the features we just cleaned. So we can have better understanding on the business aspect.\n",
    "\n",
    "Based on the industry experience, usually there're five dimensions and listed below are the significant variables.\n",
    "-\tCustomer demography: Age, Tenure, Gender, Location, Zip code, etc.\n",
    "-\tBill and payment: Monthly fee, Billing amount, Count of overdue payment, payment method, Billing type, etc.\n",
    "-\tNetwork/TV/Phone usage records: Network use frequency, network flow, usage time and period, internet average speed, In-net call duration, Call type, etc.\n",
    "-\tCustomer care/service: Service call number, service type, service duration, account change count\n",
    "-\tCompetitors information: Offer detail under similar plan, etc\n",
    "\n",
    "As we can see based on our original database, we're lack of several features such as competitors information. In the real business projects I experienced that is extremely important, however since we're only showing technical process here, I'll just leave it."
   ]
  },
  {
   "cell_type": "code",
   "execution_count": 29,
   "metadata": {
    "slideshow": {
     "slide_type": "skip"
    }
   },
   "outputs": [
    {
     "name": "stdout",
     "output_type": "stream",
     "text": [
      "+-------+------------------+-----------------+-----------------+--------------------+---------------------+-----------------+\n",
      "|summary|        CustomerID|   MonthlyRevenue|   MonthlyMinutes|TotalRecurringCharge|DirectorAssistedCalls|   OverageMinutes|\n",
      "+-------+------------------+-----------------+-----------------+--------------------+---------------------+-----------------+\n",
      "|  count|             49752|            49752|            49752|               49752|                49752|            49752|\n",
      "|   mean|  3200957.68290722|58.71737385609968|525.0214664737096|   46.83496140858659|   0.8918407307885328|39.75404003859141|\n",
      "| stddev|116469.39654596346|44.31724378172587|528.5101549841819|  23.759492302348402|    2.224725327478728|96.09160595755408|\n",
      "|    min|           3000002|            -6.17|              0.0|                -6.0|                  0.0|              0.0|\n",
      "|    max|           3399974|          1223.38|           7359.0|               400.0|               159.39|           4321.0|\n",
      "+-------+------------------+-----------------+-----------------+--------------------+---------------------+-----------------+\n",
      "\n",
      "+-------+------------------+-------------------+-------------------+-----------------+------------------+-----------------+\n",
      "|summary|      RoamingCalls|  PercChangeMinutes| PercChangeRevenues|     DroppedCalls|      BlockedCalls|  UnansweredCalls|\n",
      "+-------+------------------+-------------------+-------------------+-----------------+------------------+-----------------+\n",
      "|  count|             49752|              49752|              49752|            49752|             49752|            49752|\n",
      "|   mean|1.2263265816986915|-11.656174626145683|-1.1759366413094985| 6.01055635954336|4.0778139572278995| 28.2909571474513|\n",
      "| stddev| 9.848360375386724| 255.85819278703562|  39.39212423907682|9.036653174542694|10.836468265184084|38.86042873129284|\n",
      "|    min|               0.0|            -3875.0|            -1107.7|              0.0|               0.0|              0.0|\n",
      "|    max|            1112.4|             5192.0|             2483.5|            221.7|             324.7|            848.7|\n",
      "+-------+------------------+-------------------+-------------------+-----------------+------------------+-----------------+\n",
      "\n",
      "+-------+------------------+-------------------+------------------+------------------+----------------+------------------+\n",
      "|summary| CustomerCareCalls|      ThreewayCalls|     ReceivedCalls|     OutboundCalls|    InboundCalls|    PeakCallsInOut|\n",
      "+-------+------------------+-------------------+------------------+------------------+----------------+------------------+\n",
      "|  count|             49752|              49752|             49752|             49752|           49752|             49752|\n",
      "|   mean|1.8740311947258323|0.29842217398296056|114.70921369995183|25.350315565203392|8.16366578228015|  90.4504140537064|\n",
      "| stddev| 5.111285263665453| 1.1710835484571294|166.10718501787727| 35.02414580876011|16.5868562875604|104.60093638094463|\n",
      "|    min|               0.0|                0.0|               0.0|               0.0|             0.0|               0.0|\n",
      "|    max|             327.3|               66.0|            2692.4|             644.3|           519.3|            2090.7|\n",
      "+-------+------------------+-------------------+------------------+------------------+----------------+------------------+\n",
      "\n",
      "+-------+-----------------+-------------------+--------------------+------------------+------------------+------------------+\n",
      "|summary|OffPeakCallsInOut|DroppedBlockedCalls| CallForwardingCalls|  CallWaitingCalls|   MonthsInService|        UniqueSubs|\n",
      "+-------+-----------------+-------------------+--------------------+------------------+------------------+------------------+\n",
      "|  count|            49752|              49752|               49752|             49752|             49752|             49752|\n",
      "|   mean|67.71137843704783|  10.14917792249555|0.011772391059655897|1.8372286541244416|18.730804791767167| 1.529003859141341|\n",
      "| stddev|92.73606296743108| 15.456030718710341|  0.5824021598039744| 5.590514635892595| 9.739417720482274|1.2258410690343637|\n",
      "|    min|              0.0|                0.0|                 0.0|               0.0|                 6|                 1|\n",
      "|    max|           1474.7|              339.0|                81.3|             212.7|                61|               196|\n",
      "+-------+-----------------+-------------------+--------------------+------------------+------------------+------------------+\n",
      "\n",
      "+-------+------------------+------------------+------------------+------------------+--------------------+------------------+\n",
      "|summary|        ActiveSubs|       ServiceArea|          Handsets|     HandsetModels|CurrentEquipmentDays|            AgeHH1|\n",
      "+-------+------------------+------------------+------------------+------------------+--------------------+------------------+\n",
      "|  count|             49752|             49752|             49752|             49752|               49752|             49752|\n",
      "|   mean|1.3508602669239427| 581.7103634024763|1.8050932625824088|1.5587112075896445|   380.0208433831806|31.338257758482072|\n",
      "| stddev|0.6678388932763871|245.60054796345423|1.3308343115391097|0.9062561260922285|  252.29007230769432|22.091592990054526|\n",
      "|    min|                 0|               201|                 1|                 1|                  -5|                 0|\n",
      "|    max|                53|               978|                24|                15|                1812|                99|\n",
      "+-------+------------------+------------------+------------------+------------------+--------------------+------------------+\n",
      "\n",
      "+-------+-----------------+-------------------+-----------------------+-------------------------+------------------+-------------------------+\n",
      "|summary|           AgeHH2|     RetentionCalls|RetentionOffersAccepted|ReferralsMadeBySubscriber|       IncomeGroup|AdjustmentsToCreditRating|\n",
      "+-------+-----------------+-------------------+-----------------------+-------------------------+------------------+-------------------------+\n",
      "|  count|            49752|              49752|                  49752|                    49752|             49752|                    49752|\n",
      "|   mean|21.14759205660074|0.03549606045988101|   0.018330921369995177|      0.05147531757517286| 4.402677279305355|     0.053686283968483677|\n",
      "| stddev|23.92658904469812|0.20196388392084072|     0.1428540241288853|       0.2664903363890626|3.1104979910836676|       0.3826765692678394|\n",
      "|    min|                0|                  0|                      0|                        0|                 0|                        0|\n",
      "|    max|               99|                  4|                      3|                       16|                 9|                       25|\n",
      "+-------+-----------------+-------------------+-----------------------+-------------------------+------------------+-------------------------+\n",
      "\n",
      "+-------+-----------------+------------------+------------------+------------------+-------------------+-------------------+\n",
      "|summary|     HandsetPrice|      CreditRating|         PrizmCode|        Occupation|         ChurnIndex|  ChildrenInHHIndex|\n",
      "+-------+-----------------+------------------+------------------+------------------+-------------------+-------------------+\n",
      "|  count|            49752|             49752|             49752|             49752|              49752|              49752|\n",
      "|   mean|35.52078308409712|2.8645280591735007| 0.767888728091333| 1.195771024280431|0.28632014793375143| 0.2466031516320952|\n",
      "| stddev|56.84765409381602|1.5686274673069844|0.8761360053400642|2.0967301364866002|0.45204538278095535|0.43103801646172735|\n",
      "|    min|                0|                 1|                 0|                 0|                  0|                  0|\n",
      "|    max|              500|                 7|                 3|                 7|                  1|                  1|\n",
      "+-------+-----------------+------------------+------------------+------------------+-------------------+-------------------+\n",
      "\n",
      "+-------+-----------------------+----------------------+------------------+-------------------+-------------------+---------------------+\n",
      "|summary|HandsetRefurbishedIndex|HandsetWebCapableIndex|   TruckOwnerIndex|       RVOwnerIndex| HomeownershipIndex|BuysViaMailOrderIndex|\n",
      "+-------+-----------------------+----------------------+------------------+-------------------+-------------------+---------------------+\n",
      "|  count|                  49752|                 49752|             49752|              49752|              49752|                49752|\n",
      "|   mean|    0.13868789194404246|   0.09742321916706866|0.1903843061585464|0.08307203730503296|0.32213780350538673|  0.36822640295867504|\n",
      "| stddev|     0.3456240176846694|    0.2965361748164274|0.3926082275226939| 0.2759938495131951|0.46730014788880997|   0.4823280990401206|\n",
      "|    min|                      0|                     0|                 0|                  0|                  0|                    0|\n",
      "|    max|                      1|                     1|                 1|                  1|                  1|                    1|\n",
      "+-------+-----------------------+----------------------+------------------+-------------------+-------------------+---------------------+\n",
      "\n"
     ]
    },
    {
     "name": "stdout",
     "output_type": "stream",
     "text": [
      "+-------+-------------------------+-------------------+-------------------+-------------------+-------------------+---------------------+\n",
      "|summary|RespondsToMailOffersIndex|OptOutMailingsIndex|   NonUSTravelIndex|  OwnsComputerIndex| HasCreditCardIndex|NewCellphoneUserIndex|\n",
      "+-------+-------------------------+-------------------+-------------------+-------------------+-------------------+---------------------+\n",
      "|  count|                    49752|              49752|              49752|              49752|              49752|                49752|\n",
      "|   mean|      0.38360266923942754| 0.0149943720855443|0.05740472744814279|0.18861553304389772| 0.3117663611513105|  0.19317816369191187|\n",
      "| stddev|      0.48626784192818673|0.12153122134057211|   0.23261666389043| 0.3912068376853641|0.46321961319191574|  0.39479550855238366|\n",
      "|    min|                        0|                  0|                  0|                  0|                  0|                    0|\n",
      "|    max|                        1|                  1|                  1|                  1|                  1|                    1|\n",
      "+-------+-------------------------+-------------------+-------------------+-------------------+-------------------+---------------------+\n",
      "\n",
      "+-------+------------------------+--------------------+----------------------------+------------------+\n",
      "|summary|NotNewCellphoneUserIndex| OwnsMotorcycleIndex|MadeCallToRetentionTeamIndex|MaritalStatusIndex|\n",
      "+-------+------------------------+--------------------+----------------------------+------------------+\n",
      "|  count|                   49752|               49752|                       49752|             49752|\n",
      "|   mean|     0.13818539958192635|0.013547194082649944|        0.032581604759607655|0.8783566489789355|\n",
      "| stddev|     0.34509794066171623| 0.11560249230086782|         0.17754063576229775|0.7831029786450305|\n",
      "|    min|                       0|                   0|                           0|                 0|\n",
      "|    max|                       1|                   1|                           1|                 2|\n",
      "+-------+------------------------+--------------------+----------------------------+------------------+\n",
      "\n"
     ]
    }
   ],
   "source": [
    "# Go through the dataset check the distribution of each feature\n",
    "for i in range(len(df.columns) // 6 + 1):\n",
    "    df.describe(df.columns[6 * i : 6 * (i + 1)]).show()\n"
   ]
  },
  {
   "cell_type": "code",
   "execution_count": 30,
   "metadata": {
    "slideshow": {
     "slide_type": "skip"
    }
   },
   "outputs": [],
   "source": [
    "# Create a new Pandas DataFrame for data visualization\n",
    "df_pd = df.toPandas()\n"
   ]
  },
  {
   "cell_type": "code",
   "execution_count": 31,
   "metadata": {},
   "outputs": [],
   "source": [
    "# Define Catplot function and Barplot function\n",
    "def cat_plot(feature, cut=12):\n",
    "    temp = df_pd.loc[:, [feature, \"ChurnIndex\"]]\n",
    "    temp[feature + \"_binned\"] = pd.qcut(temp[feature], cut, duplicates=\"drop\")\n",
    "    ax = sns.catplot(\n",
    "        x=\"ChurnIndex\",\n",
    "        y=feature + \"_binned\",\n",
    "        data=temp,\n",
    "        kind=\"bar\",\n",
    "        height=5,\n",
    "        aspect=2.7,\n",
    "    )\n",
    "\n",
    "\n",
    "def bar_plot(feature, cut=False, logscale=False, drop_zero=False):\n",
    "    if drop_zero:\n",
    "        temp = df_pd[df_pd[feature] != 0].loc[:, [feature, \"ChurnIndex\"]]\n",
    "    else:\n",
    "        temp = df_pd.loc[:, [feature, \"ChurnIndex\"]]\n",
    "\n",
    "    if cut > 0:\n",
    "        temp[feature + \"_binned\"] = pd.qcut(temp[feature], cut, duplicates=\"drop\")\n",
    "        ax = sns.barplot(x=feature + \"_binned\", y=\"ChurnIndex\", data=temp)\n",
    "    else:\n",
    "        ax = sns.barplot(x=feature, y=\"ChurnIndex\", data=temp)\n",
    "\n",
    "    if logscale:\n",
    "        ax.set_yscale(\"log\")\n"
   ]
  },
  {
   "cell_type": "code",
   "execution_count": 32,
   "metadata": {
    "slideshow": {
     "slide_type": "subslide"
    }
   },
   "outputs": [
    {
     "name": "stderr",
     "output_type": "stream",
     "text": [
      "C:\\Users\\zhunqiang\\Anaconda3\\envs\\py36\\lib\\site-packages\\scipy\\stats\\stats.py:1713: FutureWarning: Using a non-tuple sequence for multidimensional indexing is deprecated; use `arr[tuple(seq)]` instead of `arr[seq]`. In the future this will be interpreted as an array index, `arr[np.array(seq)]`, which will result either in an error or a different result.\n",
      "  return np.add.reduce(sorted[indexer] * weights, axis=axis) / sumval\n"
     ]
    },
    {
     "data": {
      "image/png": "[encoded data removed]",
      "text/plain": [
       "<Figure size 972x360 with 1 Axes>"
      ]
     },
     "metadata": {
      "needs_background": "light"
     },
     "output_type": "display_data"
    }
   ],
   "source": [
    "# Use defined Catplot function plot the distribution of MonthsInService\n",
    "cat_plot(\"MonthsInService\", cut=12)\n"
   ]
  },
  {
   "cell_type": "code",
   "execution_count": 33,
   "metadata": {
    "slideshow": {
     "slide_type": "subslide"
    }
   },
   "outputs": [
    {
     "name": "stderr",
     "output_type": "stream",
     "text": [
      "C:\\Users\\zhunqiang\\Anaconda3\\envs\\py36\\lib\\site-packages\\scipy\\stats\\stats.py:1713: FutureWarning: Using a non-tuple sequence for multidimensional indexing is deprecated; use `arr[tuple(seq)]` instead of `arr[seq]`. In the future this will be interpreted as an array index, `arr[np.array(seq)]`, which will result either in an error or a different result.\n",
      "  return np.add.reduce(sorted[indexer] * weights, axis=axis) / sumval\n"
     ]
    },
    {
     "data": {
      "image/png": "[encoded data removed]",
      "text/plain": [
       "<Figure size 432x288 with 1 Axes>"
      ]
     },
     "metadata": {
      "needs_background": "light"
     },
     "output_type": "display_data"
    }
   ],
   "source": [
    "# Use defined Barplot function plot the distribution of MonthlyMinutes\n",
    "bar_plot(\"MonthlyMinutes\", cut=5, logscale=True, drop_zero=True)\n"
   ]
  },
  {
   "cell_type": "code",
   "execution_count": 34,
   "metadata": {
    "slideshow": {
     "slide_type": "subslide"
    }
   },
   "outputs": [
    {
     "name": "stderr",
     "output_type": "stream",
     "text": [
      "C:\\Users\\zhunqiang\\Anaconda3\\envs\\py36\\lib\\site-packages\\scipy\\stats\\stats.py:1713: FutureWarning: Using a non-tuple sequence for multidimensional indexing is deprecated; use `arr[tuple(seq)]` instead of `arr[seq]`. In the future this will be interpreted as an array index, `arr[np.array(seq)]`, which will result either in an error or a different result.\n",
      "  return np.add.reduce(sorted[indexer] * weights, axis=axis) / sumval\n"
     ]
    },
    {
     "data": {
      "image/png": "[encoded data removed]",
      "text/plain": [
       "<Figure size 432x288 with 1 Axes>"
      ]
     },
     "metadata": {
      "needs_background": "light"
     },
     "output_type": "display_data"
    }
   ],
   "source": [
    "# Use defined Barplot function plot the distribution of OverageMinutes\n",
    "bar_plot(\"OverageMinutes\", cut=7, logscale=True, drop_zero=True)\n"
   ]
  },
  {
   "cell_type": "code",
   "execution_count": 35,
   "metadata": {
    "slideshow": {
     "slide_type": "subslide"
    }
   },
   "outputs": [
    {
     "name": "stderr",
     "output_type": "stream",
     "text": [
      "C:\\Users\\zhunqiang\\Anaconda3\\envs\\py36\\lib\\site-packages\\scipy\\stats\\stats.py:1713: FutureWarning: Using a non-tuple sequence for multidimensional indexing is deprecated; use `arr[tuple(seq)]` instead of `arr[seq]`. In the future this will be interpreted as an array index, `arr[np.array(seq)]`, which will result either in an error or a different result.\n",
      "  return np.add.reduce(sorted[indexer] * weights, axis=axis) / sumval\n"
     ]
    },
    {
     "data": {
      "image/png": "[encoded data removed]",
      "text/plain": [
       "<Figure size 432x288 with 1 Axes>"
      ]
     },
     "metadata": {
      "needs_background": "light"
     },
     "output_type": "display_data"
    }
   ],
   "source": [
    "# Use defined Barplot function plot the distribution of CreditRating\n",
    "bar_plot(\"CreditRating\", cut=5, logscale=True)\n"
   ]
  },
  {
   "cell_type": "code",
   "execution_count": 36,
   "metadata": {
    "slideshow": {
     "slide_type": "skip"
    }
   },
   "outputs": [
    {
     "name": "stderr",
     "output_type": "stream",
     "text": [
      "C:\\Users\\zhunqiang\\Anaconda3\\envs\\py36\\lib\\site-packages\\scipy\\stats\\stats.py:1713: FutureWarning: Using a non-tuple sequence for multidimensional indexing is deprecated; use `arr[tuple(seq)]` instead of `arr[seq]`. In the future this will be interpreted as an array index, `arr[np.array(seq)]`, which will result either in an error or a different result.\n",
      "  return np.add.reduce(sorted[indexer] * weights, axis=axis) / sumval\n"
     ]
    },
    {
     "data": {
      "image/png": "[encoded data removed]",
      "text/plain": [
       "<Figure size 432x288 with 1 Axes>"
      ]
     },
     "metadata": {
      "needs_background": "light"
     },
     "output_type": "display_data"
    }
   ],
   "source": [
    "# Use defined Barplot function plot the distribution of AgeHH1\n",
    "bar_plot(\"AgeHH1\", cut=6, logscale=True, drop_zero=True)\n"
   ]
  },
  {
   "cell_type": "code",
   "execution_count": 37,
   "metadata": {
    "slideshow": {
     "slide_type": "subslide"
    }
   },
   "outputs": [
    {
     "data": {
      "text/plain": [
       "<matplotlib.axes._subplots.AxesSubplot at 0x2d9ed952080>"
      ]
     },
     "execution_count": 37,
     "metadata": {},
     "output_type": "execute_result"
    },
    {
     "data": {
      "image/png": "[encoded data removed]",
      "text/plain": [
       "<Figure size 720x360 with 3 Axes>"
      ]
     },
     "metadata": {
      "needs_background": "light"
     },
     "output_type": "display_data"
    }
   ],
   "source": [
    "# Subplots the distribution of HandsetRefurbished, HandsetWebCapable and MadeCallToRetentionTeam into one graph\n",
    "feature = [\n",
    "    \"HandsetRefurbishedIndex\",\n",
    "    \"HandsetWebCapableIndex\",\n",
    "    \"MadeCallToRetentionTeamIndex\",\n",
    "    \"ChurnIndex\",\n",
    "]\n",
    "temp = df_pd.loc[:, feature]\n",
    "temp.columns = [\n",
    "    \"HandsetRefurbished\",\n",
    "    \"HandsetWebCapable\",\n",
    "    \"MadeCallToRetentionTeam\",\n",
    "    \"ChurnIndex\",\n",
    "]\n",
    "\n",
    "fig, axs = plt.subplots(figsize=(10, 5), ncols=3)\n",
    "sns.barplot(x=\"HandsetRefurbished\", y=\"ChurnIndex\", data=temp, ax=axs[0])\n",
    "sns.barplot(x=\"HandsetWebCapable\", y=\"ChurnIndex\", data=temp, ax=axs[1])\n",
    "sns.barplot(x=\"MadeCallToRetentionTeam\", y=\"ChurnIndex\", data=temp, ax=axs[2])\n"
   ]
  },
  {
   "cell_type": "markdown",
   "metadata": {
    "slideshow": {
     "slide_type": "slide"
    }
   },
   "source": [
    "## 5. Prediction Model Training and Evaluation <a name=\"Modeling\"></a>"
   ]
  },
  {
   "cell_type": "markdown",
   "metadata": {
    "slideshow": {
     "slide_type": "subslide"
    }
   },
   "source": [
    "The first step of this module is data preprocessing. We'll start from VectorAssembler, which is useful for combining raw features and features generated by different feature transformers into a single feature vector, in order to train ML models like Random Forest and Gradient-Boosted Trees. Next, since we're going to use K-Means and Neural Network for the modeling, we're going to use StandardScaler transforms the dataset of Vector rows, normalizing each feature to have unit standard deviation and/or zero mean. Last, we'll use down-samplings method to deal with our unbalance dataset.\n",
    "\n",
    "Next Step is modeling, in this project we'll use Random Forest Classifier and GBTs Classifier to predict customer Churn; Use XGBoost Regressor and Neural Network to predict Revenue Loss.\n",
    "\n",
    "In the last part of each modeling iteration is evaluate the performance of each prediction model, in order to do so, we will split the dataset in 2 parts: training set (80% of the entries in the dataset) and test set (20% of the entries in the dataset). We train the model on the training set and then we test the model on the test set. I decided to use the ROC curve(A receiver operating characteristic curve) to test the model performance for classification problem which is to predict customer Churn in our case; And use mean absolute error for regression program which is predicted revenue loss in our case, then I'll plot a chart of how many of total revenue loss can be covered with our predicted highest risk group.\n"
   ]
  },
  {
   "cell_type": "markdown",
   "metadata": {
    "slideshow": {
     "slide_type": "subslide"
    }
   },
   "source": [
    "### 5.1 Data Preprocessing"
   ]
  },
  {
   "cell_type": "code",
   "execution_count": 38,
   "metadata": {
    "slideshow": {
     "slide_type": "skip"
    }
   },
   "outputs": [],
   "source": [
    "# Create column list for VectorAssembler\n",
    "inputcols = [\n",
    "    column for column in df.columns if column not in [\"CustomerID\", \"ChurnIndex\"]\n",
    "]\n"
   ]
  },
  {
   "cell_type": "code",
   "execution_count": 39,
   "metadata": {
    "slideshow": {
     "slide_type": "fragment"
    }
   },
   "outputs": [],
   "source": [
    "# Use vectorAssembler transform the given list of columns into a single vector column.\n",
    "vectorAssembler = VectorAssembler(inputCols=inputcols, outputCol=\"features\")\n",
    "features_vectorized = vectorAssembler.transform(df)\n",
    "features_vectorized = features_vectorized.withColumnRenamed(\"ChurnIndex\", \"label\")\n"
   ]
  },
  {
   "cell_type": "code",
   "execution_count": 40,
   "metadata": {
    "slideshow": {
     "slide_type": "fragment"
    }
   },
   "outputs": [
    {
     "name": "stdout",
     "output_type": "stream",
     "text": [
      "+----------+--------------+--------------+--------------------+---------------------+--------------+------------+-----------------+------------------+------------+------------+---------------+-----------------+-------------+-------------+-------------+------------+--------------+-----------------+-------------------+-------------------+----------------+---------------+----------+----------+-----------+--------+-------------+--------------------+------+------+--------------+-----------------------+-------------------------+-----------+-------------------------+------------+------------+---------+----------+-----+-----------------+-----------------------+----------------------+---------------+------------+------------------+---------------------+-------------------------+-------------------+----------------+-----------------+------------------+---------------------+------------------------+-------------------+----------------------------+------------------+--------------------+--------------------+\n",
      "|CustomerID|MonthlyRevenue|MonthlyMinutes|TotalRecurringCharge|DirectorAssistedCalls|OverageMinutes|RoamingCalls|PercChangeMinutes|PercChangeRevenues|DroppedCalls|BlockedCalls|UnansweredCalls|CustomerCareCalls|ThreewayCalls|ReceivedCalls|OutboundCalls|InboundCalls|PeakCallsInOut|OffPeakCallsInOut|DroppedBlockedCalls|CallForwardingCalls|CallWaitingCalls|MonthsInService|UniqueSubs|ActiveSubs|ServiceArea|Handsets|HandsetModels|CurrentEquipmentDays|AgeHH1|AgeHH2|RetentionCalls|RetentionOffersAccepted|ReferralsMadeBySubscriber|IncomeGroup|AdjustmentsToCreditRating|HandsetPrice|CreditRating|PrizmCode|Occupation|label|ChildrenInHHIndex|HandsetRefurbishedIndex|HandsetWebCapableIndex|TruckOwnerIndex|RVOwnerIndex|HomeownershipIndex|BuysViaMailOrderIndex|RespondsToMailOffersIndex|OptOutMailingsIndex|NonUSTravelIndex|OwnsComputerIndex|HasCreditCardIndex|NewCellphoneUserIndex|NotNewCellphoneUserIndex|OwnsMotorcycleIndex|MadeCallToRetentionTeamIndex|MaritalStatusIndex|            features|      scaledFeatures|\n",
      "+----------+--------------+--------------+--------------------+---------------------+--------------+------------+-----------------+------------------+------------+------------+---------------+-----------------+-------------+-------------+-------------+------------+--------------+-----------------+-------------------+-------------------+----------------+---------------+----------+----------+-----------+--------+-------------+--------------------+------+------+--------------+-----------------------+-------------------------+-----------+-------------------------+------------+------------+---------+----------+-----+-----------------+-----------------------+----------------------+---------------+------------+------------------+---------------------+-------------------------+-------------------+----------------+-----------------+------------------+---------------------+------------------------+-------------------+----------------------------+------------------+--------------------+--------------------+\n",
      "|   3000002|          24.0|         219.0|                22.0|                 0.25|           0.0|         0.0|           -157.0|             -19.0|         0.7|         0.7|            6.3|              0.0|          0.0|         97.2|          0.0|         0.0|          58.0|             24.0|                1.3|                0.0|             0.3|             61|         2|         1|        503|       2|            2|                 361|    62|     0|             1|                      0|                        0|          4|                        0|          30|           1|        1|         5|    1|                0|                      0|                     0|              0|           0|                 0|                    1|                        1|                  0|               0|                1|                 0|                    0|                       0|                  0|                           1|                 2|(56,[0,1,2,3,6,7,...|(56,[0,1,2,3,6,7,...|\n",
      "|   3000010|         16.99|          10.0|                17.0|                  0.0|           0.0|         0.0|             -4.0|               0.0|         0.3|         0.0|            2.7|              0.0|          0.0|          0.0|          0.0|         0.0|           5.0|              1.0|                0.3|                0.0|             0.0|             58|         1|         1|        412|       2|            1|                1504|    40|    42|             0|                      0|                        0|          5|                        0|          30|           4|        1|         5|    1|                1|                      0|                     1|              0|           0|                 0|                    1|                        1|                  0|               0|                1|                 0|                    1|                       0|                  0|                           0|                 1|(56,[0,1,2,6,8,10...|(56,[0,1,2,6,8,10...|\n",
      "|   3000014|          38.0|           8.0|                38.0|                  0.0|           0.0|         0.0|             -2.0|               0.0|         0.0|         0.0|            0.0|              0.0|          0.0|          0.4|          0.3|         0.0|           1.3|              3.7|                0.0|                0.0|             0.0|             60|         1|         1|        414|       1|            1|                1812|    26|    26|             0|                      0|                        0|          6|                        0|           0|           3|        2|         3|    0|                1|                      0|                     1|              0|           0|                 1|                    0|                        0|                  0|               0|                0|                 0|                    1|                       0|                  0|                           0|                 1|(56,[0,1,2,6,13,1...|(56,[0,1,2,6,13,1...|\n",
      "|   3000022|         82.28|        1312.0|                75.0|                 1.24|           0.0|         0.0|            157.0|               8.1|        52.0|         7.7|           76.0|              4.3|          1.3|        200.3|        370.3|       147.0|         555.7|            303.7|               59.7|                0.0|            22.7|             59|         2|         2|        412|       9|            4|                 458|    30|     0|             0|                      0|                        0|          6|                        0|          10|           4|        0|         0|    0|                0|                      0|                     0|              0|           0|                 0|                    1|                        1|                  0|               0|                0|                 0|                    1|                       0|                  0|                           0|                 2|(56,[0,1,2,3,6,7,...|(56,[0,1,2,3,6,7,...|\n",
      "|   3000026|         17.14|           0.0|                17.0|                  0.0|           0.0|         0.0|              0.0|              -0.2|         0.0|         0.0|            0.0|              0.0|          0.0|          0.0|          0.0|         0.0|           0.0|              0.0|                0.0|                0.0|             0.0|             53|         2|         2|        918|       4|            3|                 852|    46|    54|             0|                      0|                        0|          9|                        1|          10|           1|        0|         5|    1|                0|                      0|                     1|              0|           0|                 0|                    1|                        1|                  0|               0|                1|                 0|                    0|                       1|                  0|                           0|                 1|(56,[0,2,7,21,22,...|(56,[0,2,7,21,22,...|\n",
      "|   3000030|         38.05|         682.0|                52.0|                 0.25|           0.0|         0.0|            148.0|              -3.1|         9.0|         1.7|           13.0|              0.7|          0.0|         42.2|          6.7|         0.0|          33.3|             53.0|               10.7|                0.0|             0.7|             53|         1|         1|        918|       3|            2|                 231|    28|     0|             0|                      0|                        0|          1|                        1|          30|           3|        0|         0|    0|                0|                      0|                     0|              0|           0|                 0|                    0|                        0|                  0|               1|                0|                 0|                    1|                       0|                  0|                           0|                 1|(56,[0,1,2,3,6,7,...|(56,[0,1,2,3,6,7,...|\n",
      "|   3000038|         31.66|          26.0|                30.0|                 0.25|           0.0|         0.0|             60.0|               4.0|         0.0|         1.0|            2.3|              0.0|          0.0|          0.0|          0.0|         0.0|           1.7|              1.7|                1.0|                0.0|             0.0|             57|         2|         2|        918|       2|            2|                 601|    52|    58|             0|                      0|                        0|          9|                        1|          30|           1|        0|         1|    0|                0|                      0|                     0|              0|           0|                 0|                    1|                        1|                  0|               1|                0|                 0|                    0|                       1|                  0|                           0|                 1|(56,[0,1,2,3,6,7,...|(56,[0,1,2,3,6,7,...|\n",
      "|   3000042|         62.13|          98.0|                66.0|                 2.48|           0.0|         0.0|             24.0|               6.8|         0.0|         0.3|            4.0|              4.0|          0.0|          0.0|          3.7|         0.0|           7.7|              7.3|                0.3|                0.0|             0.0|             59|         2|         2|        405|       3|            3|                 464|    46|    46|             0|                      0|                        0|          6|                        0|          30|           1|        0|         5|    0|                1|                      0|                     0|              0|           0|                 0|                    1|                        1|                  0|               0|                0|                 0|                    1|                       0|                  0|                           0|                 2|(56,[0,1,2,3,6,7,...|(56,[0,1,2,3,6,7,...|\n",
      "|   3000046|          35.3|          24.0|                35.0|                  0.0|           0.0|         0.0|             20.0|              -0.3|         0.0|         0.0|            1.0|              0.0|          0.0|          2.4|          4.0|         1.7|           9.3|              1.7|                0.0|                0.0|             0.0|             53|         3|         3|        210|       4|            3|                 544|    36|    34|             0|                      0|                        0|          9|                        0|          80|           1|        0|         0|    0|                1|                      0|                     0|              0|           0|                 0|                    0|                        0|                  0|               0|                0|                 0|                    1|                       0|                  0|                           0|                 1|(56,[0,1,2,6,7,10...|(56,[0,1,2,6,7,10...|\n",
      "|   3000050|          81.0|        1056.0|                75.0|                  0.0|           0.0|         0.0|             43.0|               2.4|         0.0|         0.0|            0.0|              0.0|          0.0|          0.0|          0.0|         0.0|           0.0|              0.0|                0.0|                0.0|             0.0|             55|         1|         1|        412|       9|            5|                 388|    46|    68|             0|                      0|                        0|          5|                        1|          30|           3|        0|         5|    0|                0|                      0|                     0|              0|           0|                 0|                    0|                        0|                  0|               0|                1|                 0|                    1|                       0|                  0|                           0|                 2|(56,[0,1,2,6,7,21...|(56,[0,1,2,6,7,21...|\n",
      "|   3000054|         25.23|           2.0|                25.0|                  0.0|           0.0|         0.0|             -2.0|              -0.2|         0.0|         0.0|            0.3|              0.0|          0.0|          1.1|          0.3|         0.0|           0.7|              0.7|                0.0|                0.0|             0.0|             53|         2|         2|        210|       2|            2|                 354|     0|     0|             0|                      0|                        0|          7|                        0|          30|           1|        0|         0|    0|                0|                      0|                     0|              1|           0|                 1|                    0|                        0|                  0|               0|                0|                 1|                    1|                       0|                  0|                           0|                 0|(56,[0,1,2,6,7,10...|(56,[0,1,2,6,7,10...|\n",
      "|   3000058|        212.51|        1972.0|                85.0|                 2.23|         250.0|        35.5|           -200.0|            -106.8|         9.0|         0.0|           43.7|              0.3|          0.0|        718.1|         49.3|         4.7|         351.7|            128.7|                9.0|                0.0|             1.0|             59|         5|         1|        801|      10|            6|                 199|    30|    22|             0|                      0|                        0|          3|                        1|          80|           4|        1|         0|    0|                1|                      0|                     0|              0|           0|                 0|                    0|                        1|                  0|               0|                1|                 0|                    1|                       0|                  0|                           0|                 2|[212.509994506835...|[4.79519880689114...|\n",
      "|   3000062|         42.56|         270.0|                37.0|                 0.25|           6.0|         0.0|            202.0|              -1.8|         3.3|         1.7|            7.7|              1.0|          0.0|         57.1|         11.0|         3.7|          62.3|             18.0|                5.0|                0.0|             0.3|             55|         2|         2|        405|       5|            4|                 697|    58|    58|             0|                      0|                        0|          1|                        1|          30|           3|        1|         0|    0|                1|                      0|                     0|              0|           0|                 0|                    0|                        0|                  0|               0|                0|                 0|                    0|                       1|                  0|                           0|                 0|(56,[0,1,2,3,4,6,...|(56,[0,1,2,3,4,6,...|\n",
      "|   3000066|         63.02|         440.0|                60.0|                  0.0|           6.0|         1.3|            -16.0|               0.2|         5.0|         0.0|           17.3|              3.7|          0.3|         93.9|          0.0|         0.0|         141.3|             14.3|                5.0|                0.0|             1.7|             57|         1|         1|        801|       3|            2|                 530|    99|     0|             0|                      0|                        0|          3|                        0|          30|           3|        2|         0|    0|                0|                      0|                     0|              0|           0|                 0|                    1|                        1|                  0|               0|                0|                 0|                    0|                       1|                  0|                           0|                 0|(56,[0,1,2,4,5,6,...|(56,[0,1,2,4,5,6,...|\n",
      "|   3000078|         50.97|         162.0|                70.0|                  0.0|           2.0|         0.0|            -58.0|              -1.0|         1.7|         0.3|            9.0|              0.3|          0.0|         38.4|         34.3|         5.7|          19.3|             42.3|                2.0|                0.0|             0.0|             56|         1|         1|        414|       4|            3|                 253|    30|    30|             0|                      0|                        0|          1|                        0|          10|           3|        0|         0|    0|                1|                      0|                     0|              0|           0|                 0|                    1|                        1|                  0|               0|                1|                 1|                    1|                       0|                  0|                           0|                 2|(56,[0,1,2,4,6,7,...|(56,[0,1,2,4,6,7,...|\n",
      "|   3000082|        172.44|        1978.0|               100.0|                  0.0|         362.0|         0.0|          -1007.0|             -72.5|         7.3|        18.0|          114.3|              0.3|          0.7|        515.2|         22.7|         2.7|         718.0|             60.3|               25.3|                0.0|            20.3|             58|         2|         1|        502|       4|            3|                 143|    48|    32|             1|                      0|                        0|          6|                        0|         150|           1|        0|         5|    1|                0|                      0|                     0|              1|           1|                 0|                    1|                        1|                  0|               0|                0|                 0|                    0|                       0|                  0|                           1|                 0|[172.440002441406...|[3.89103625872399...|\n",
      "|   3000102|         29.99|          47.0|                30.0|                  0.0|           0.0|         0.0|             14.0|               0.0|         0.3|         0.0|            2.3|              0.0|          0.0|          1.0|         10.0|         1.7|          22.0|              3.3|                0.3|                0.0|             0.0|             54|         3|         3|        801|       3|            3|                 573|    52|    50|             0|                      0|                        0|          9|                        0|          30|           1|        0|         0|    0|                0|                      0|                     0|              0|           0|                 0|                    1|                        1|                  0|               0|                0|                 0|                    1|                       0|                  0|                           0|                 0|(56,[0,1,2,6,8,10...|(56,[0,1,2,6,8,10...|\n",
      "|   3000118|         30.26|          34.0|                30.0|                  0.0|           0.0|         0.0|             32.0|              -0.3|         0.0|         0.0|            0.7|              0.0|          0.0|          0.5|          0.3|         0.0|          14.3|              0.0|                0.0|                0.0|             0.0|             52|         1|         1|        210|       2|            2|                 319|     0|     0|             0|                      0|                        0|          0|                        0|          30|           3|        0|         0|    0|                0|                      0|                     0|              0|           0|                 1|                    0|                        0|                  0|               0|                0|                 1|                    1|                       0|                  0|                           0|                 0|(56,[0,1,2,6,7,10...|(56,[0,1,2,6,7,10...|\n",
      "|   3000122|         24.49|          42.0|                17.0|                  0.0|          10.0|         0.0|             81.0|              29.9|         0.0|         0.0|            0.0|              0.0|          0.0|          0.0|          0.0|         0.0|           3.0|              0.7|                0.0|                0.0|             0.0|             58|         2|         1|        913|       3|            3|                 776|    36|     0|             0|                      0|                        0|          9|                        0|          30|           1|        0|         0|    1|                0|                      0|                     0|              0|           0|                 0|                    0|                        0|                  0|               0|                0|                 1|                    0|                       1|                  0|                           0|                 2|(56,[0,1,2,4,6,7,...|(56,[0,1,2,4,6,7,...|\n",
      "|   3000126|          30.0|          94.0|                30.0|                  0.0|           0.0|         0.0|            -54.0|               0.0|         2.0|         1.7|            5.3|              0.0|          0.0|         19.5|          1.0|         0.0|          26.3|             19.3|                3.7|                0.0|             0.0|             54|         1|         1|        210|       2|            2|                1395|    42|    40|             0|                      0|                        0|          3|                        0|          30|           4|        3|         0|    0|                0|                      1|                     1|              1|           1|                 0|                    0|                        0|                  0|               0|                1|                 0|                    1|                       0|                  0|                           0|                 0|(56,[0,1,2,6,8,9,...|(56,[0,1,2,6,8,9,...|\n",
      "+----------+--------------+--------------+--------------------+---------------------+--------------+------------+-----------------+------------------+------------+------------+---------------+-----------------+-------------+-------------+-------------+------------+--------------+-----------------+-------------------+-------------------+----------------+---------------+----------+----------+-----------+--------+-------------+--------------------+------+------+--------------+-----------------------+-------------------------+-----------+-------------------------+------------+------------+---------+----------+-----+-----------------+-----------------------+----------------------+---------------+------------+------------------+---------------------+-------------------------+-------------------+----------------+-----------------+------------------+---------------------+------------------------+-------------------+----------------------------+------------------+--------------------+--------------------+\n",
      "only showing top 20 rows\n",
      "\n"
     ]
    }
   ],
   "source": [
    "# StandardScaler\n",
    "from pyspark.ml.feature import StandardScaler\n",
    "\n",
    "scaler = StandardScaler(inputCol=\"features\", outputCol=\"scaledFeatures\")\n",
    "\n",
    "# Compute summary statistics by fitting the StandardScaler\n",
    "scalerModel = scaler.fit(features_vectorized)\n",
    "\n",
    "# Normalize each feature to have unit standard deviation.\n",
    "scaledData = scalerModel.transform(features_vectorized)\n",
    "scaledData.show()\n"
   ]
  },
  {
   "cell_type": "code",
   "execution_count": 41,
   "metadata": {
    "slideshow": {
     "slide_type": "skip"
    }
   },
   "outputs": [
    {
     "data": {
      "text/plain": [
       "[Row(label=1, count=14245), Row(label=0, count=35507)]"
      ]
     },
     "execution_count": 41,
     "metadata": {},
     "output_type": "execute_result"
    }
   ],
   "source": [
    "# Check the distribution of label\n",
    "scaledData.select(\"label\").groupBy(\"label\").count().collect()\n"
   ]
  },
  {
   "cell_type": "markdown",
   "metadata": {
    "slideshow": {
     "slide_type": "subslide"
    }
   },
   "source": [
    "Since the data set is highly skewed – we have much more Negative training samples than Positive training samples – we will need to try out some strategies that counter the unbalance.\n",
    "\n",
    "Here I'm going to use one of the simplest method called down-samplings, which means we just randomly filter out some of the majority cases."
   ]
  },
  {
   "cell_type": "code",
   "execution_count": 42,
   "metadata": {
    "slideshow": {
     "slide_type": "subslide"
    }
   },
   "outputs": [
    {
     "data": {
      "text/plain": [
       "[Row(label=1, count=14245), Row(label=0, count=14148)]"
      ]
     },
     "execution_count": 42,
     "metadata": {},
     "output_type": "execute_result"
    }
   ],
   "source": [
    "# Down-sampling\n",
    "scaledData_ds, _ = scaledData.filter(scaledData[\"label\"] == 0.0).randomSplit([0.4, 0.6])\n",
    "scaledData_ds = scaledData.filter(scaledData[\"label\"] == 1.0).union(scaledData_ds)\n",
    "scaledData_ds.select(\"label\").groupBy(\"label\").count().collect()\n"
   ]
  },
  {
   "cell_type": "code",
   "execution_count": 43,
   "metadata": {
    "slideshow": {
     "slide_type": "skip"
    }
   },
   "outputs": [],
   "source": [
    "# Split dataset into train and test set\n",
    "train, test = scaledData_ds.randomSplit([0.8, 0.2])\n"
   ]
  },
  {
   "cell_type": "code",
   "execution_count": 44,
   "metadata": {
    "slideshow": {
     "slide_type": "skip"
    }
   },
   "outputs": [],
   "source": [
    "# Define plot roc curve function\n",
    "def plot_roc_curve(model, train, test):\n",
    "    predictions = model.transform(test)\n",
    "    predictions_train = model.transform(train)\n",
    "\n",
    "    results = predictions.select([\"probability\", \"label\"])\n",
    "    results_train = predictions_train.select([\"probability\", \"label\"])\n",
    "\n",
    "    ## prepare score-label set\n",
    "    results_collect = results.collect()\n",
    "    results_list = [(float(i[0][0]), 1.0 - float(i[1])) for i in results_collect]\n",
    "\n",
    "    results_collect_train = results_train.collect()\n",
    "    results_list_train = [\n",
    "        (float(i[0][0]), 1.0 - float(i[1])) for i in results_collect_train\n",
    "    ]\n",
    "\n",
    "    fpr = dict()\n",
    "    fpr_train = dict()\n",
    "    tpr = dict()\n",
    "    tpr_train = dict()\n",
    "    roc_auc = dict()\n",
    "    roc_auc_train = dict()\n",
    "\n",
    "    y_test = [i[1] for i in results_list]\n",
    "    y_score = [i[0] for i in results_list]\n",
    "\n",
    "    y_train = [i[1] for i in results_list_train]\n",
    "    y_score_train = [i[0] for i in results_list_train]\n",
    "\n",
    "    fpr, tpr, _ = roc_curve(y_test, y_score)\n",
    "    roc_auc = auc(fpr, tpr)\n",
    "\n",
    "    fpr_train, tpr_train, _ = roc_curve(y_train, y_score_train)\n",
    "    roc_auc_train = auc(fpr_train, tpr_train)\n",
    "\n",
    "    plt.figure()\n",
    "    plt.plot(fpr, tpr, label=\"ROC curve on testing set (area = %0.2f)\" % roc_auc)\n",
    "    plt.plot(\n",
    "        fpr_train,\n",
    "        tpr_train,\n",
    "        label=\"ROC curve on training set (area = %0.2f)\" % roc_auc_train,\n",
    "    )\n",
    "    plt.plot([0, 1], [0, 1], \"k--\")\n",
    "    plt.xlim([0.0, 1.0])\n",
    "    plt.ylim([0.0, 1.05])\n",
    "    plt.xlabel(\"False Positive Rate\")\n",
    "    plt.ylabel(\"True Positive Rate\")\n",
    "    plt.title(\"Receiver operating characteristic example\")\n",
    "    plt.legend(loc=\"lower right\")\n",
    "    plt.show()\n"
   ]
  },
  {
   "cell_type": "markdown",
   "metadata": {
    "slideshow": {
     "slide_type": "subslide"
    }
   },
   "source": [
    "### 5.2 Random Forest Classifier"
   ]
  },
  {
   "cell_type": "code",
   "execution_count": 51,
   "metadata": {
    "slideshow": {
     "slide_type": "subslide"
    }
   },
   "outputs": [],
   "source": [
    "# Validation for hyper-parameter tuning.\n",
    "# Randomly splits the input dataset into train and validation sets,\n",
    "# and uses evaluation metric on the validation set to select the best model.\n",
    "rf = RandomForestClassifier(\n",
    "    featuresCol=\"features\", labelCol=\"label\", predictionCol=\"prediction\", maxBins=16\n",
    ")\n",
    "\n",
    "# Use a ParamGridBuilder to construct a grid of parameters to search over.\n",
    "# TrainValidationSplit will try all combinations of values and determine best model using the evaluator.\n",
    "paramGrid = (\n",
    "    ParamGridBuilder()\n",
    "    .addGrid(rf.maxDepth, [8, 10, 12])\n",
    "    .addGrid(rf.minInstancesPerNode, [1, 3, 5, 10])\n",
    "    .addGrid(rf.numTrees, [50, 100])\n",
    "    .build()\n",
    ")\n",
    "\n",
    "# In this case the estimator is BinaryClassificationEvaluator\n",
    "# A TrainValidationSplit requires an Estimator, a set of Estimator ParamMaps, and an Evaluator.\n",
    "tvs = TrainValidationSplit(\n",
    "    estimator=rf,\n",
    "    estimatorParamMaps=paramGrid,\n",
    "    evaluator=BinaryClassificationEvaluator(),\n",
    "    trainRatio=0.8,\n",
    ")  # 80% of the data will be used for training, 20% for validation.\n",
    "\n",
    "# Run TrainValidationSplit, and choose the best set of parameters.\n",
    "model = tvs.fit(train)\n"
   ]
  },
  {
   "cell_type": "code",
   "execution_count": 52,
   "metadata": {
    "slideshow": {
     "slide_type": "subslide"
    }
   },
   "outputs": [
    {
     "name": "stdout",
     "output_type": "stream",
     "text": [
      "cacheNodeIds : False\n",
      "checkpointInterval : 10\n",
      "featureSubsetStrategy : auto\n",
      "featuresCol : features\n",
      "impurity : gini\n",
      "labelCol : label\n",
      "maxBins : 16\n",
      "maxDepth : 12\n",
      "maxMemoryInMB : 256\n",
      "minInfoGain : 0.0\n",
      "minInstancesPerNode : 10\n",
      "numTrees : 100\n",
      "predictionCol : prediction\n",
      "probabilityCol : probability\n",
      "rawPredictionCol : rawPrediction\n",
      "seed : -3836567432557209202\n",
      "subsamplingRate : 1.0\n"
     ]
    }
   ],
   "source": [
    "# From the best model take chosen hyper-parameters \n",
    "best_model = model.bestModel.extractParamMap()\n",
    "\n",
    "for key in best_model.keys():\n",
    "    print(str(key).split(\"_\")[-1], \":\", best_model[key])\n"
   ]
  },
  {
   "cell_type": "code",
   "execution_count": 53,
   "metadata": {
    "slideshow": {
     "slide_type": "subslide"
    }
   },
   "outputs": [
    {
     "data": {
      "image/png": "[encoded data removed]",
      "text/plain": [
       "<Figure size 432x288 with 1 Axes>"
      ]
     },
     "metadata": {
      "needs_background": "light"
     },
     "output_type": "display_data"
    }
   ],
   "source": [
    "# Use defined function plot roc curve and print roc auc score\n",
    "plot_roc_curve(model, train, test)\n"
   ]
  },
  {
   "cell_type": "code",
   "execution_count": 54,
   "metadata": {
    "slideshow": {
     "slide_type": "subslide"
    }
   },
   "outputs": [
    {
     "data": {
      "text/plain": [
       "Text(0.5, 6.799999999999994, 'Feature Importance')"
      ]
     },
     "execution_count": 54,
     "metadata": {},
     "output_type": "execute_result"
    },
    {
     "data": {
      "image/png": "[encoded data removed]",
      "text/plain": [
       "<Figure size 972x360 with 1 Axes>"
      ]
     },
     "metadata": {
      "needs_background": "light"
     },
     "output_type": "display_data"
    }
   ],
   "source": [
    "# Evaluate the feature importances and plot the charts for most important 20 features\n",
    "importance = model.bestModel.featureImportances\n",
    "features_list = inputcols\n",
    "feature_importance = pd.DataFrame(\n",
    "    data={\"features_list\": features_list, \"importance\": importance}\n",
    ")\n",
    "feature_importance = feature_importance.sort_values(by=\"importance\", ascending=False)[\n",
    "    :20\n",
    "]\n",
    "sns.catplot(\n",
    "    x=\"importance\",\n",
    "    y=\"features_list\",\n",
    "    data=feature_importance,\n",
    "    kind=\"bar\",\n",
    "    height=5,\n",
    "    aspect=2.7,\n",
    ")\n",
    "plt.ylabel(\"Feature\", fontsize=15)\n",
    "plt.xlabel(\"Feature Importance\", fontsize=15)\n"
   ]
  },
  {
   "cell_type": "markdown",
   "metadata": {
    "slideshow": {
     "slide_type": "subslide"
    }
   },
   "source": [
    "### 5.3 Gradient-Boosted Trees(GBTs) Classifier"
   ]
  },
  {
   "cell_type": "code",
   "execution_count": 55,
   "metadata": {
    "slideshow": {
     "slide_type": "skip"
    }
   },
   "outputs": [
    {
     "name": "stdout",
     "output_type": "stream",
     "text": [
      "+--------------------+-----+----------+\n",
      "|            features|label|prediction|\n",
      "+--------------------+-----+----------+\n",
      "|(56,[0,2,7,21,22,...|    1|       1.0|\n",
      "|(56,[0,1,2,4,6,7,...|    1|       0.0|\n",
      "|(56,[0,1,2,3,4,6,...|    1|       1.0|\n",
      "|(56,[0,1,2,3,4,5,...|    1|       1.0|\n",
      "|[83.8300018310546...|    1|       0.0|\n",
      "|[90.9000015258789...|    1|       0.0|\n",
      "|[117.120002746582...|    1|       1.0|\n",
      "|(56,[0,1,2,3,5,6,...|    1|       0.0|\n",
      "|(56,[0,1,2,6,7,9,...|    1|       0.0|\n",
      "|(56,[0,1,2,3,6,7,...|    1|       0.0|\n",
      "+--------------------+-----+----------+\n",
      "only showing top 10 rows\n",
      "\n"
     ]
    }
   ],
   "source": [
    "# Validation for hyper-parameter tuning.\n",
    "# Randomly splits the input dataset into train and validation sets,\n",
    "# and uses evaluation metric on the validation set to select the best model.\n",
    "gbt = GBTClassifier(\n",
    "    featuresCol=\"features\", labelCol=\"label\", predictionCol=\"prediction\"\n",
    ")\n",
    "\n",
    "# Use a ParamGridBuilder to construct a grid of parameters to search over.\n",
    "# TrainValidationSplit will try all combinations of values and determine best model using the evaluator.\n",
    "paramGrid = (\n",
    "    ParamGridBuilder()\n",
    "    .addGrid(gbt.maxDepth, [8, 10])\n",
    "    .addGrid(gbt.minInstancesPerNode, [5, 20, 50])\n",
    "    .addGrid(gbt.maxIter, [10, 20])\n",
    "    .build()\n",
    ")\n",
    "\n",
    "# In this case the estimator is BinaryClassificationEvaluator\n",
    "# A TrainValidationSplit requires an Estimator, a set of Estimator ParamMaps, and an Evaluator.\n",
    "tvs = TrainValidationSplit(\n",
    "    estimator=gbt,\n",
    "    estimatorParamMaps=paramGrid,\n",
    "    evaluator=BinaryClassificationEvaluator(),\n",
    "    trainRatio=0.8,\n",
    ")  # 80% of the data will be used for training, 20% for validation.\n",
    "\n",
    "# Run TrainValidationSplit, and choose the best set of parameters.\n",
    "model = tvs.fit(train)\n",
    "\n",
    "# Make predictions on test data. model is the model with combination of parameters that performed best.\n",
    "model.transform(test).select(\"features\", \"label\", \"prediction\").show(10)\n"
   ]
  },
  {
   "cell_type": "code",
   "execution_count": 56,
   "metadata": {
    "slideshow": {
     "slide_type": "skip"
    }
   },
   "outputs": [
    {
     "name": "stdout",
     "output_type": "stream",
     "text": [
      "cacheNodeIds : False\n",
      "checkpointInterval : 10\n",
      "featureSubsetStrategy : all\n",
      "featuresCol : features\n",
      "labelCol : label\n",
      "lossType : logistic\n",
      "maxBins : 32\n",
      "maxDepth : 8\n",
      "maxIter : 20\n",
      "maxMemoryInMB : 256\n",
      "minInfoGain : 0.0\n",
      "minInstancesPerNode : 50\n",
      "predictionCol : prediction\n",
      "seed : 5870794624552178741\n",
      "stepSize : 0.1\n",
      "subsamplingRate : 1.0\n"
     ]
    }
   ],
   "source": [
    "# From the best model take chosen hyper-parameters \n",
    "best_model = model.bestModel.extractParamMap()\n",
    "\n",
    "for key in best_model.keys():\n",
    "    print(str(key).split(\"_\")[-1], \":\", best_model[key])\n"
   ]
  },
  {
   "cell_type": "code",
   "execution_count": 57,
   "metadata": {
    "slideshow": {
     "slide_type": "subslide"
    }
   },
   "outputs": [
    {
     "data": {
      "image/png": "[encoded data removed]",
      "text/plain": [
       "<Figure size 432x288 with 1 Axes>"
      ]
     },
     "metadata": {
      "needs_background": "light"
     },
     "output_type": "display_data"
    }
   ],
   "source": [
    "# Use defined function plot roc curve and print roc auc score\n",
    "plot_roc_curve(model, train, test)\n"
   ]
  },
  {
   "cell_type": "markdown",
   "metadata": {
    "slideshow": {
     "slide_type": "subslide"
    }
   },
   "source": [
    "### 5.4 Use XGBoost Regressor Algorithm Build Revenue Loss Prediction Model"
   ]
  },
  {
   "cell_type": "code",
   "execution_count": 58,
   "metadata": {
    "slideshow": {
     "slide_type": "subslide"
    }
   },
   "outputs": [],
   "source": [
    "# Transofrm scaledData into pandas Dataframe so we can use XGBoost and Keras\n",
    "dataset = scaledData.toPandas()\n",
    "\n",
    "# Create revenue loss column as label\n",
    "dataset[\"revenue_loss\"] = dataset.label * dataset.MonthlyRevenue\n",
    "\n",
    "# Create the list of features\n",
    "feature_list = [\n",
    "    column\n",
    "    for column in dataset.columns\n",
    "    if column\n",
    "    not in [\"CustomerID\", \"label\", \"features\", \"revenue_loss\", \"scaledFeatures\"]\n",
    "]\n",
    "\n",
    "# Create X, y, and split into train/test sets\n",
    "X = dataset.loc[:, feature_list]\n",
    "y = dataset.revenue_loss\n",
    "X_train, X_test, y_train, y_test = train_test_split(\n",
    "    X, y, test_size=0.2, random_state=42\n",
    ")\n"
   ]
  },
  {
   "cell_type": "code",
   "execution_count": 59,
   "metadata": {
    "slideshow": {
     "slide_type": "skip"
    }
   },
   "outputs": [
    {
     "name": "stdout",
     "output_type": "stream",
     "text": [
      "Mean Absolute Error: 22.42623\n",
      "\n",
      "Best parameter values: {'learning_rate': 0.1, 'max_depth': 4, 'n_estimators': 100, 'objective': 'reg:linear', 'reg_lambda': 100}\n",
      "\n"
     ]
    }
   ],
   "source": [
    "# Use GridSearch method to figure the best hyper-parameters\n",
    "# Parameters to search over with cross-validation\n",
    "grid_params = [\n",
    "    {\n",
    "        \"max_depth\": [4, 5],\n",
    "        \"learning_rate\": [0.1, 1],\n",
    "        \"n_estimators\": [10, 100],\n",
    "        \"reg_lambda\": [100, 10],\n",
    "        \"objective\": [\"reg:linear\"],\n",
    "    }\n",
    "]\n",
    "\n",
    "xgbr = GridSearchCV(xgb.XGBRegressor(), grid_params, cv=5, scoring=\"r2\")\n",
    "xgbr.fit(X_train, y_train)\n",
    "y_pred = xgbr.predict(X_test)\n",
    "\n",
    "print(\"Mean Absolute Error: %r\\n\" % metrics.mean_absolute_error(y_test, y_pred))\n",
    "print(\"Best parameter values: %r\\n\" % xgbr.best_params_)\n"
   ]
  },
  {
   "cell_type": "code",
   "execution_count": 60,
   "metadata": {
    "slideshow": {
     "slide_type": "subslide"
    }
   },
   "outputs": [
    {
     "name": "stderr",
     "output_type": "stream",
     "text": [
      "C:\\Users\\zhunqiang\\Anaconda3\\envs\\py36\\lib\\site-packages\\scipy\\stats\\stats.py:1713: FutureWarning: Using a non-tuple sequence for multidimensional indexing is deprecated; use `arr[tuple(seq)]` instead of `arr[seq]`. In the future this will be interpreted as an array index, `arr[np.array(seq)]`, which will result either in an error or a different result.\n",
      "  return np.add.reduce(sorted[indexer] * weights, axis=axis) / sumval\n"
     ]
    },
    {
     "name": "stdout",
     "output_type": "stream",
     "text": [
      "Highest Risk Group(5.00% of total clients) covers 16.73% of total revenue_loss\n"
     ]
    },
    {
     "data": {
      "image/png": "[encoded data removed]",
      "text/plain": [
       "<Figure size 720x360 with 1 Axes>"
      ]
     },
     "metadata": {
      "needs_background": "light"
     },
     "output_type": "display_data"
    }
   ],
   "source": [
    "# Plot a chart of how many of total revenue loss can be captured with our predicted highest risk group\n",
    "temp = X_test.copy()\n",
    "temp[\"revenue_loss\"] = y_test\n",
    "temp[\"y_pred\"] = y_pred\n",
    "n = 20\n",
    "temp[\"y_pred_bin\"] = pd.qcut(temp[\"y_pred\"], n, duplicates=\"drop\")\n",
    "l = len(temp[\"y_pred_bin\"].unique())\n",
    "labels = [l + 1 - i for i in range(1, l + 1)]\n",
    "temp[\"y_pred_bin\"] = pd.qcut(temp[\"y_pred\"], n, labels=labels, duplicates=\"drop\")\n",
    "index_amount = temp.index[(temp.y_pred_bin == 1)]\n",
    "fig = plt.figure(figsize=(10, 5))\n",
    "labels.sort()\n",
    "ax = sns.barplot(\n",
    "    x=\"y_pred_bin\", y=\"revenue_loss\", data=temp, estimator=np.sum, order=labels\n",
    ")\n",
    "plt.xlabel(\"Predicted Risk Level\", fontsize=15)\n",
    "plt.ylabel(\"revenue_loss\", fontsize=15)\n",
    "per = 100 * sum(temp.y_pred_bin == 1) / len(temp.y_pred_bin)\n",
    "print(\n",
    "    \"Highest Risk Group(%.2f%% of total clients) can capture %.2f%% of total revenue_loss\"\n",
    "    % (\n",
    "        per,\n",
    "        100 * temp[(temp.y_pred_bin == 1)].revenue_loss.sum() / temp.revenue_loss.sum(),\n",
    "    )\n",
    ")\n"
   ]
  },
  {
   "cell_type": "markdown",
   "metadata": {
    "slideshow": {
     "slide_type": "subslide"
    }
   },
   "source": [
    "### 5.5 Use Keras deploy Nural networks to predict revenue loss"
   ]
  },
  {
   "cell_type": "code",
   "execution_count": 61,
   "metadata": {
    "slideshow": {
     "slide_type": "subslide"
    }
   },
   "outputs": [],
   "source": [
    "a = 0.0005\n",
    "drop = 0.2\n",
    "n = X_train.shape[1]\n",
    "\n",
    "model = Sequential(\n",
    "    [\n",
    "        Dense(\n",
    "            int(n * 1.2),\n",
    "            input_dim=n,\n",
    "            kernel_regularizer=regularizers.l1_l2(l1=a, l2=a),\n",
    "            activation=\"relu\",\n",
    "        ),\n",
    "        Dropout(drop),\n",
    "        Dense(\n",
    "            int(n), kernel_regularizer=regularizers.l1_l2(l1=a, l2=a), activation=\"relu\"\n",
    "        ),\n",
    "        Dropout(drop),\n",
    "        Dense(\n",
    "            int(n * 0.8),\n",
    "            activation=\"relu\",\n",
    "            kernel_regularizer=regularizers.l1_l2(l1=a, l2=a),\n",
    "        ),\n",
    "        Dense(1),\n",
    "    ]\n",
    ")\n"
   ]
  },
  {
   "cell_type": "code",
   "execution_count": 62,
   "metadata": {
    "slideshow": {
     "slide_type": "subslide"
    }
   },
   "outputs": [
    {
     "name": "stdout",
     "output_type": "stream",
     "text": [
      "_________________________________________________________________\n",
      "Layer (type)                 Output Shape              Param #   \n",
      "=================================================================\n",
      "dense_1 (Dense)              (None, 67)                3819      \n",
      "_________________________________________________________________\n",
      "dropout_1 (Dropout)          (None, 67)                0         \n",
      "_________________________________________________________________\n",
      "dense_2 (Dense)              (None, 56)                3808      \n",
      "_________________________________________________________________\n",
      "dropout_2 (Dropout)          (None, 56)                0         \n",
      "_________________________________________________________________\n",
      "dense_3 (Dense)              (None, 44)                2508      \n",
      "_________________________________________________________________\n",
      "dense_4 (Dense)              (None, 1)                 45        \n",
      "=================================================================\n",
      "Total params: 10,180\n",
      "Trainable params: 10,180\n",
      "Non-trainable params: 0\n",
      "_________________________________________________________________\n"
     ]
    }
   ],
   "source": [
    "# Prints a summary representation of model\n",
    "model.summary()\n"
   ]
  },
  {
   "cell_type": "code",
   "execution_count": 63,
   "metadata": {
    "slideshow": {
     "slide_type": "subslide"
    }
   },
   "outputs": [
    {
     "name": "stdout",
     "output_type": "stream",
     "text": [
      "Train on 31840 samples, validate on 7961 samples\n",
      "Epoch 1/5\n",
      "31840/31840 [==============================] - 4s 127us/step - loss: 1590.4851 - mean_absolute_error: 25.3650 - acc: 0.0095 - val_loss: 1292.6290 - val_mean_absolute_error: 21.6435 - val_acc: 1.2561e-04\n",
      "Epoch 2/5\n",
      "31840/31840 [==============================] - 3s 91us/step - loss: 1184.0834 - mean_absolute_error: 23.2146 - acc: 0.0029 - val_loss: 1207.0447 - val_mean_absolute_error: 22.4543 - val_acc: 1.2561e-04\n",
      "Epoch 3/5\n",
      "31840/31840 [==============================] - 3s 91us/step - loss: 1158.7780 - mean_absolute_error: 22.9973 - acc: 0.0018 - val_loss: 1263.3850 - val_mean_absolute_error: 21.1330 - val_acc: 2.5122e-04\n",
      "Epoch 4/5\n",
      "31840/31840 [==============================] - 3s 90us/step - loss: 1141.9251 - mean_absolute_error: 23.0311 - acc: 0.0013 - val_loss: 1225.8474 - val_mean_absolute_error: 21.1401 - val_acc: 0.0000e+00\n",
      "Epoch 5/5\n",
      "31840/31840 [==============================] - 3s 89us/step - loss: 1138.0819 - mean_absolute_error: 22.9597 - acc: 5.6533e-04 - val_loss: 1175.2611 - val_mean_absolute_error: 24.0792 - val_acc: 2.5122e-04\n"
     ]
    }
   ],
   "source": [
    "# Configures the model for training and fit the training set\n",
    "model.compile(loss=\"mean_squared_error\", optimizer=\"adam\", metrics=[\"mae\", \"accuracy\"])\n",
    "history = model.fit(\n",
    "    X_train, y_train, validation_split=0.2, epochs=5, verbose=1, shuffle=True\n",
    ")\n"
   ]
  },
  {
   "cell_type": "code",
   "execution_count": 64,
   "metadata": {
    "slideshow": {
     "slide_type": "subslide"
    }
   },
   "outputs": [
    {
     "data": {
      "text/plain": [
       "<matplotlib.legend.Legend at 0x2d9ea188470>"
      ]
     },
     "execution_count": 64,
     "metadata": {},
     "output_type": "execute_result"
    },
    {
     "data": {
      "image/png": "[encoded data removed]",
      "text/plain": [
       "<Figure size 432x288 with 1 Axes>"
      ]
     },
     "metadata": {
      "needs_background": "light"
     },
     "output_type": "display_data"
    }
   ],
   "source": [
    "# plot loss metrics\n",
    "ax1 = plt.plot(history.history[\"loss\"])\n",
    "ax2 = plt.plot(history.history[\"val_loss\"])\n",
    "plt.legend([\"loss\", \"val_loss\"])\n"
   ]
  },
  {
   "cell_type": "code",
   "execution_count": 65,
   "metadata": {
    "slideshow": {
     "slide_type": "skip"
    }
   },
   "outputs": [],
   "source": [
    "# Use model redict test set\n",
    "y_pred = model.predict(X_test)\n",
    "y_test = np.array(y_test)\n"
   ]
  },
  {
   "cell_type": "code",
   "execution_count": 66,
   "metadata": {
    "slideshow": {
     "slide_type": "subslide"
    }
   },
   "outputs": [
    {
     "name": "stderr",
     "output_type": "stream",
     "text": [
      "C:\\Users\\zhunqiang\\Anaconda3\\envs\\py36\\lib\\site-packages\\scipy\\stats\\stats.py:1713: FutureWarning: Using a non-tuple sequence for multidimensional indexing is deprecated; use `arr[tuple(seq)]` instead of `arr[seq]`. In the future this will be interpreted as an array index, `arr[np.array(seq)]`, which will result either in an error or a different result.\n",
      "  return np.add.reduce(sorted[indexer] * weights, axis=axis) / sumval\n"
     ]
    },
    {
     "name": "stdout",
     "output_type": "stream",
     "text": [
      "Highest Risk Group(5.00% of total clients) covers 16.18% of total revenue_loss\n"
     ]
    },
    {
     "data": {
      "image/png": "[encoded data removed]",
      "text/plain": [
       "<Figure size 720x360 with 1 Axes>"
      ]
     },
     "metadata": {
      "needs_background": "light"
     },
     "output_type": "display_data"
    }
   ],
   "source": [
    "# Plot a chart of how many of total revenue loss can be captured with our predicted highest risk group\n",
    "temp = X_test.copy()\n",
    "temp[\"revenue_loss\"] = y_test\n",
    "temp[\"y_pred\"] = y_pred\n",
    "n = 20\n",
    "temp[\"y_pred_bin\"] = pd.qcut(temp[\"y_pred\"], n, duplicates=\"drop\")\n",
    "l = len(temp[\"y_pred_bin\"].unique())\n",
    "labels = [l + 1 - i for i in range(1, l + 1)]\n",
    "temp[\"y_pred_bin\"] = pd.qcut(temp[\"y_pred\"], n, labels=labels, duplicates=\"drop\")\n",
    "index_amount = temp.index[(temp.y_pred_bin == 1)]\n",
    "fig = plt.figure(figsize=(10, 5))\n",
    "labels.sort()\n",
    "ax = sns.barplot(\n",
    "    x=\"y_pred_bin\", y=\"revenue_loss\", data=temp, estimator=np.sum, order=labels\n",
    ")\n",
    "plt.xlabel(\"Predicted Risk Level\", fontsize=15)\n",
    "plt.ylabel(\"revenue_loss\", fontsize=15)\n",
    "per = 100 * sum(temp.y_pred_bin == 1) / len(temp.y_pred_bin)\n",
    "print(\n",
    "    \"Highest Risk Group(%.2f%% of total clients) can capture %.2f%% of total revenue_loss\"\n",
    "    % (\n",
    "        per,\n",
    "        100 * temp[(temp.y_pred_bin == 1)].revenue_loss.sum() / temp.revenue_loss.sum(),\n",
    "    )\n",
    ")\n"
   ]
  },
  {
   "cell_type": "markdown",
   "metadata": {
    "slideshow": {
     "slide_type": "slide"
    }
   },
   "source": [
    "## 6. Customer Segmentation  <a name=\"Segmentation\"></a>"
   ]
  },
  {
   "cell_type": "markdown",
   "metadata": {
    "slideshow": {
     "slide_type": "subslide"
    }
   },
   "source": [
    "In this module, we'll use KMeans to build a Customer Segmentation model, and then we can compare the different distributions of each cluster.\n",
    "\n",
    "Customer segmentation is the practice of dividing customers into groups of individuals that are similar in specific ways relevant to marketing, such as age, months in service, services usage and services spending.\n",
    "\n",
    "Based on the customer segmentation, the telecommunications company can customize their marketing efforts for different cluster, and gain a deeper understanding of their customers' preferences in order to more accurately tailor marketing materials.\n"
   ]
  },
  {
   "cell_type": "code",
   "execution_count": 67,
   "metadata": {
    "slideshow": {
     "slide_type": "subslide"
    }
   },
   "outputs": [],
   "source": [
    "# Trains a k-means model\n",
    "kmeans = KMeans(featuresCol=\"scaledFeatures\", k=4, initSteps=2, tol=0.0001, maxIter=20)\n",
    "model = kmeans.fit(scaledData)\n"
   ]
  },
  {
   "cell_type": "code",
   "execution_count": 68,
   "metadata": {
    "slideshow": {
     "slide_type": "skip"
    }
   },
   "outputs": [],
   "source": [
    "# Make predictions\n",
    "predictions = model.transform(scaledData)\n"
   ]
  },
  {
   "cell_type": "code",
   "execution_count": 69,
   "metadata": {
    "slideshow": {
     "slide_type": "skip"
    }
   },
   "outputs": [
    {
     "name": "stdout",
     "output_type": "stream",
     "text": [
      "Silhouette with squared euclidean distance = 0.0571637622185287\n"
     ]
    }
   ],
   "source": [
    "# Evaluate clustering by computing Silhouette score\n",
    "evaluator = ClusteringEvaluator()\n",
    "\n",
    "silhouette = evaluator.evaluate(predictions)\n",
    "print(\"Silhouette with squared euclidean distance = \" + str(silhouette))\n"
   ]
  },
  {
   "cell_type": "code",
   "execution_count": 70,
   "metadata": {
    "slideshow": {
     "slide_type": "skip"
    }
   },
   "outputs": [],
   "source": [
    "# Create a Pandas DataFrame for data visualization\n",
    "cluster = predictions.toPandas()\n"
   ]
  },
  {
   "cell_type": "code",
   "execution_count": 71,
   "metadata": {
    "slideshow": {
     "slide_type": "subslide"
    }
   },
   "outputs": [
    {
     "data": {
      "image/png": "[encoded data removed]",
      "text/plain": [
       "<Figure size 1080x360 with 5 Axes>"
      ]
     },
     "metadata": {
      "needs_background": "light"
     },
     "output_type": "display_data"
    }
   ],
   "source": [
    "# Compare the different distributions of each cluster\n",
    "temp_list = list(feature_importance.iloc[:5, 0])\n",
    "temp_list.append(\"prediction\")\n",
    "temp = cluster.loc[:, temp_list]\n",
    "\n",
    "fig, axs = plt.subplots(figsize=(15, 5), ncols=len(temp_list) - 1)\n",
    "\n",
    "for i in range(len(temp_list) - 1):\n",
    "    ax = sns.barplot(x=\"prediction\", y=temp_list[i], data=temp, ax=axs[i])\n",
    "    ax.set_xlabel(\"cluster\", fontsize=12)\n",
    "    ax.set_ylabel(temp_list[i], fontsize=12, color=\"blue\")\n"
   ]
  },
  {
   "cell_type": "markdown",
   "metadata": {
    "slideshow": {
     "slide_type": "slide"
    }
   },
   "source": [
    "## 7. Results and Discussion <a name=\"results\"></a>"
   ]
  },
  {
   "cell_type": "markdown",
   "metadata": {
    "slideshow": {
     "slide_type": "subslide"
    }
   },
   "source": [
    "Due to the lack of missing some important feature, we can see the overall classification performance is not perfect enough. However, we can still catch the highest risk group so the stakeholders can focus on those groups based on the predicted risk level, so they can put less retention cost but save more revenue loss.\n",
    "\n",
    "From the result of the segmentation model, we can see that all customers have been separated into different clusters perfectly. Customer segmentation begins with gathering and analyzing data and ends with acting on the information gathered in a way that is appropriate and effective. So the next step in real business is based on these clusters and distributions, following with analytical technique such as Uplift Modeling to models the difference in behavior between target and control groups, so the business owner can customize their up-sale and cross-sale strategy. "
   ]
  }
 ],
 "metadata": {
  "kernelspec": {
   "display_name": "Python 3",
   "language": "python",
   "name": "python3"
  },
  "language_info": {
   "codemirror_mode": {
    "name": "ipython",
    "version": 3
   },
   "file_extension": ".py",
   "mimetype": "text/x-python",
   "name": "python",
   "nbconvert_exporter": "python",
   "pygments_lexer": "ipython3",
   "version": "3.6.7"
  }
 },
 "nbformat": 4,
 "nbformat_minor": 2
}
